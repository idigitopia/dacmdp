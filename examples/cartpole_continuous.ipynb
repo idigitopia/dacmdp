{
 "cells": [
  {
   "cell_type": "code",
   "execution_count": 1,
   "id": "f1f82e61-12f2-4a6e-92e1-cf91c8e63776",
   "metadata": {},
   "outputs": [],
   "source": [
    "%load_ext autoreload\n",
    "%autoreload 2"
   ]
  },
  {
   "cell_type": "code",
   "execution_count": 2,
   "id": "dc8efecc-4723-4df4-bbf5-b7e6ce882f2d",
   "metadata": {},
   "outputs": [
    {
     "name": "stderr",
     "output_type": "stream",
     "text": [
      "/nfs/guille/afern/users/shrestaa/installation_files/MinicondaInstallation/envs/modem/lib/python3.9/site-packages/tqdm/auto.py:22: TqdmWarning: IProgress not found. Please update jupyter and ipywidgets. See https://ipywidgets.readthedocs.io/en/stable/user_install.html\n",
      "  from .autonotebook import tqdm as notebook_tqdm\n",
      "/nfs/guille/afern/users/shrestaa/installation_files/MinicondaInstallation/envs/modem/lib/python3.9/site-packages/glfw/__init__.py:906: GLFWError: (65544) b'X11: The DISPLAY environment variable is missing'\n",
      "  warnings.warn(message, GLFWError)\n",
      "pybullet build time: May 20 2022 19:45:31\n"
     ]
    }
   ],
   "source": [
    "import torch\n",
    "import gym\n",
    "# import d4rl \n",
    "import dacmdp\n",
    "import dacmdp.envs as ce"
   ]
  },
  {
   "cell_type": "code",
   "execution_count": 3,
   "id": "ba6c649a-8f64-4aef-9fec-6fb889fb7340",
   "metadata": {},
   "outputs": [],
   "source": [
    "# ! pip install scikit-learn"
   ]
  },
  {
   "cell_type": "code",
   "execution_count": 4,
   "id": "07ba47a7-8163-42f3-814e-6b8ca6cc07ed",
   "metadata": {},
   "outputs": [],
   "source": [
    "from munch import munchify \n",
    "\n",
    "config = munchify({\n",
    "\"envArgs\":{'env_name': 'CartPole-cont-v1', 'seed': 0},\n",
    "\"dataArgs\": {'buffer_name': 'random', 'buffer_size': 50000, 'load_buffer': False, 'buffer_device': 'gpu', \"data_dir\":\"\"},\n",
    "\"reprModelArgs\": {'repr_model_name': 'OracleDynamicsRepr', 's_multiplyer': 1, 'a_multiplyer': 10, 'repr_dim': 4},\n",
    "\"actionModelArgs\": {'action_model_name': 'NNActionModelCuda', 'nn_engine': \"torch_pykeops\"},\n",
    "\"mdpBuildArgs\": {'n_tran_types': 10, 'n_tran_targets': 5, 'penalty_beta': 1.0, 'penalty_type': 'linear', 'rebuild_mdpfcache': False,\n",
    "                 'save_mdp2cache': False, 'save_folder': '/nfs/hpc/share/shrestaa/storage/dac_storage_22_Q4/mdp_dumps/random_hash'},\n",
    "\"mdpSolveArgs\": {'device': 'cuda', 'max_n_backups': 5000, \"gamma\": 0.99, 'epsilon': 0.0001, 'penalty_beta': 1, \"operator\": \"simple_backup\"},\n",
    "\"evalArgs\": {'eval_episode_count': 50},\n",
    "\"logArgs\": {'no_wandb_logging':True}\n",
    "})"
   ]
  },
  {
   "cell_type": "code",
   "execution_count": 5,
   "id": "d9d33a45-5551-4247-bf51-d843a8cb5f44",
   "metadata": {},
   "outputs": [
    {
     "name": "stdout",
     "output_type": "stream",
     "text": [
      "Collecting buffer!\n",
      "Average Reward of collected trajectories:16.914\n",
      "Collected buffer!\n"
     ]
    }
   ],
   "source": [
    "env = gym.make(config.envArgs.env_name)\n",
    "data_buffer_train = dacmdp.utils_buffer.generate_or_load_buffer(config, env)"
   ]
  },
  {
   "cell_type": "code",
   "execution_count": 6,
   "id": "8febdd77-0af2-4583-8a6c-2f6100656d3a",
   "metadata": {},
   "outputs": [
    {
     "name": "stderr",
     "output_type": "stream",
     "text": [
      "Caculating State Representations: : 196it [00:00, 76345.06it/s]\n",
      "/nfs/guille/afern/users/shrestaa/installation_files/MinicondaInstallation/envs/modem/lib/python3.9/site-packages/sklearn/cluster/_kmeans.py:870: FutureWarning: The default value of `n_init` will change from 10 to 'auto' in 1.4. Set the value of `n_init` explicitly to suppress the warning\n",
      "  warnings.warn(\n"
     ]
    }
   ],
   "source": [
    "from dacmdp.core.models_action import NNActionModel, GlobalClusterActionModel, EnsembleActionModel\n",
    "from dacmdp.core.models_sa_repr import OracleDynamicsRepr\n",
    "\n",
    "######### Get Action and Repr Models ####################################\n",
    "nn_action_model = NNActionModel(action_space=env.action_space,\n",
    "                                   n_actions= config.mdpBuildArgs.n_tran_types,\n",
    "                                   data_buffer=data_buffer_train,\n",
    "                                   nn_engine= config.actionModelArgs.nn_engine,\n",
    "                                   projection_fxn=lambda s: s, \n",
    "                                   )\n",
    "cluster_action_model = GlobalClusterActionModel(action_space=env.action_space,\n",
    "                                   n_actions= 10,\n",
    "                                   data_buffer=data_buffer_train)\n",
    "action_model = EnsembleActionModel(env.action_space,[nn_action_model, cluster_action_model])\n",
    "config.mdpBuildArgs.n_tran_types = action_model.n_actions\n",
    "\n",
    "sa_repr_model = OracleDynamicsRepr(env_name = config.envArgs.env_name)\n",
    "######################################################################################################"
   ]
  },
  {
   "cell_type": "code",
   "execution_count": 13,
   "id": "421352ce-5219-4ee4-a728-8523caf9e491",
   "metadata": {},
   "outputs": [],
   "source": [
    "# sa_repr_model."
   ]
  },
  {
   "cell_type": "code",
   "execution_count": 8,
   "id": "b4057745-881a-4705-930f-c1391ef79243",
   "metadata": {},
   "outputs": [
    {
     "name": "stdout",
     "output_type": "stream",
     "text": [
      "torch.Size([50000])\n",
      "dacmdp_core_defined\n",
      "Using pre-initialized Action Model BaseActionModel\n",
      "Using pre-initialized Action Model <dacmdp.core.models_sa_repr.OracleDynamicsRepr object at 0x2b9c08c6c610>\n",
      "batch_next_states.shape torch.Size([50000, 4])\n",
      "nn after consumption,  50000\n"
     ]
    },
    {
     "name": "stderr",
     "output_type": "stream",
     "text": [
      "Calculate Candidate Actions: : 5it [00:00, 20.14it/s]\n",
      "Calculate/Update Datsaet SA Representation: : 5it [00:02,  1.97it/s]\n",
      "Calculate/Update Candidate Transition SA Representation: : 5it [00:51, 10.40s/it]\n",
      "Update Transition model of core dacmdp: : 5it [00:00, 28.30it/s]\n"
     ]
    },
    {
     "name": "stdout",
     "output_type": "stream",
     "text": [
      "0 tensor(1.)\n",
      "500 tensor(0.0067)\n",
      "1000 tensor(9.9182e-05)\n",
      "Solved MDP in 1000 Backups\n",
      "Graph built and solved in 56.12 Seconds\n"
     ]
    }
   ],
   "source": [
    "import time\n",
    "from dacmdp.core.dac_core import DACTransitionBatch\n",
    "from dacmdp.core.dac_build import DACBuildWithActionNames\n",
    "from dacmdp.core.utils_knn import THelper\n",
    "\n",
    "######### DACMDP Elastic Build\n",
    "transitions = DACTransitionBatch(torch.FloatTensor(data_buffer_train.state).clone().detach(),\n",
    "                                torch.FloatTensor(data_buffer_train.action).clone().detach(),\n",
    "                                torch.FloatTensor(data_buffer_train.next_state).clone().detach(),\n",
    "                                torch.FloatTensor(data_buffer_train.reward.reshape(-1)).clone().detach(), \n",
    "                                torch.LongTensor((1- data_buffer_train.not_done).reshape(-1)).clone().detach())\n",
    "print(transitions.rewards.shape)\n",
    "\n",
    "st = time.time()\n",
    "elasticAgent = DACBuildWithActionNames( config = config, \n",
    "                                    action_space = env.action_space, \n",
    "                                    action_model = action_model, \n",
    "                                    repr_model = sa_repr_model, \n",
    "                                    effective_batch_size= 10000, \n",
    "                                    batch_calc_knn_ret_flat_engine = THelper.batch_calc_knn_ret_flat_pykeops\n",
    "                                    )\n",
    "\n",
    "elasticAgent.consume_transitions(transitions, verbose = True, batch_size = 10000)\n",
    "elasticAgent.dacmdp_core.solve(max_n_backups = config.mdpSolveArgs.max_n_backups, \n",
    "                               penalty_beta = config.mdpSolveArgs.penalty_beta, \n",
    "                               epsilon = config.mdpSolveArgs.epsilon, \n",
    "                               gamma = config.mdpSolveArgs.gamma, \n",
    "                               operator=\"simple_backup\", \n",
    "                               bellman_backup_batch_size=500) \n",
    "\n",
    "et = time.time()\n",
    "print(f\"Graph built and solved in {et-st:.2f} Seconds\")"
   ]
  },
  {
   "cell_type": "code",
   "execution_count": 9,
   "id": "1abbd6a3-1045-4111-b31b-d65d4969d637",
   "metadata": {},
   "outputs": [],
   "source": [
    "# policy liftup functions\n",
    "def dummy_lifted_policy(self, s):\n",
    "    nn_s_idx =  THelper.calc_knn_indices(torch.FloatTensor(s).to(self.device), self.dacmdp_core.S, 1)[0]\n",
    "    policy_idx = self.dacmdp_core.Pi[nn_s_idx] \n",
    "    return self.A_names[nn_s_idx,policy_idx]"
   ]
  },
  {
   "cell_type": "code",
   "execution_count": 10,
   "id": "def75ef7-fb15-40aa-ad73-2617d050d46b",
   "metadata": {},
   "outputs": [
    {
     "name": "stderr",
     "output_type": "stream",
     "text": [
      "100%|████████████████████████████████████████████████████████████████████████████████████████████████████████████████████████| 100/100 [00:15<00:00,  6.42it/s]"
     ]
    },
    {
     "name": "stdout",
     "output_type": "stream",
     "text": [
      "Evaluation compltete 495.27 Time:  15.595014572143555 Seconds\n"
     ]
    },
    {
     "name": "stderr",
     "output_type": "stream",
     "text": [
      "\n"
     ]
    }
   ],
   "source": [
    "from dacmdp.eval.utils_eval import evaluate_on_env\n",
    "######### Eval\n",
    "st = time.time()\n",
    "config.evalArgs.eval_episode_count = 100\n",
    "avg_rewards, info = evaluate_on_env(env, \n",
    "                                    lambda s :dummy_lifted_policy(elasticAgent, s),\n",
    "                                    eps_count=config.evalArgs.eval_episode_count)\n",
    "et = time.time()\n",
    "print(\"Evaluation compltete\", avg_rewards, \"Time: \", et-st, \"Seconds\")\n",
    "######################################################################################################"
   ]
  },
  {
   "cell_type": "code",
   "execution_count": null,
   "id": "a4e4cfff-2fc4-422a-ad54-f3878a103141",
   "metadata": {},
   "outputs": [],
   "source": []
  },
  {
   "cell_type": "code",
   "execution_count": null,
   "id": "1854e2d4-2d38-4aa5-9e98-f4e781ddd0ca",
   "metadata": {},
   "outputs": [],
   "source": []
  }
 ],
 "metadata": {
  "kernelspec": {
   "display_name": "Python 3 (ipykernel)",
   "language": "python",
   "name": "python3"
  },
  "language_info": {
   "codemirror_mode": {
    "name": "ipython",
    "version": 3
   },
   "file_extension": ".py",
   "mimetype": "text/x-python",
   "name": "python",
   "nbconvert_exporter": "python",
   "pygments_lexer": "ipython3",
   "version": "3.9.0"
  }
 },
 "nbformat": 4,
 "nbformat_minor": 5
}
