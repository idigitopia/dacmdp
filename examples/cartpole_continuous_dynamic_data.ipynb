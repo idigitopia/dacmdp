{
 "cells": [
  {
   "cell_type": "code",
   "execution_count": 1,
   "id": "f1f82e61-12f2-4a6e-92e1-cf91c8e63776",
   "metadata": {},
   "outputs": [],
   "source": [
    "%load_ext autoreload\n",
    "%autoreload 2"
   ]
  },
  {
   "cell_type": "code",
   "execution_count": 2,
   "id": "dc8efecc-4723-4df4-bbf5-b7e6ce882f2d",
   "metadata": {},
   "outputs": [
    {
     "name": "stderr",
     "output_type": "stream",
     "text": [
      "/nfs/guille/afern/users/shrestaa/installation_files/MinicondaInstallation/envs/mondac_env4/lib/python3.10/site-packages/gym/wrappers/monitoring/video_recorder.py:9: DeprecationWarning: The distutils package is deprecated and slated for removal in Python 3.12. Use setuptools or check PEP 632 for potential alternatives\n",
      "  import distutils.spawn\n",
      "/nfs/guille/afern/users/shrestaa/installation_files/MinicondaInstallation/envs/mondac_env4/lib/python3.10/site-packages/mujoco_py/builder.py:9: DeprecationWarning: The distutils.sysconfig module is deprecated, use sysconfig instead\n",
      "  from distutils.sysconfig import customize_compiler\n",
      "<frozen importlib._bootstrap>:283: DeprecationWarning: the load_module() method is deprecated and slated for removal in Python 3.12; use exec_module() instead\n",
      "/nfs/guille/afern/users/shrestaa/installation_files/MinicondaInstallation/envs/mondac_env4/lib/python3.10/site-packages/glfw/__init__.py:912: GLFWError: (65544) b'X11: The DISPLAY environment variable is missing'\n",
      "  warnings.warn(message, GLFWError)\n",
      "pybullet build time: Sep 24 2022 15:43:41\n"
     ]
    }
   ],
   "source": [
    "import time \n",
    "import torch\n",
    "import gym\n",
    "import dacmdp\n",
    "import dacmdp.envs as ce\n",
    "import wandb as wandb_logger\n"
   ]
  },
  {
   "cell_type": "code",
   "execution_count": 3,
   "id": "07ba47a7-8163-42f3-814e-6b8ca6cc07ed",
   "metadata": {},
   "outputs": [],
   "source": [
    "from munch import munchify \n",
    "\n",
    "config = munchify({\n",
    "\"envArgs\":{'env_name': 'CartPole-cont-v1', 'seed': 0},\n",
    "\"logArgs\":{'wandb_id': \"cartpole_online_test_1\", \"wandb_entity\":\"dacmdp\",\n",
    "           \"wandb_project\":\"dacmdp_online_test_v0\", \"no_wandb_logging\":True},\n",
    "\"dataArgs\": {'buffer_name': 'random', 'buffer_size': 25000, \n",
    "             'load_buffer': False, 'buffer_device': 'gpu', \"data_dir\":\"\"},\n",
    "\"reprModelArgs\": {'repr_model_name': 'OracleDynamicsRepr', 's_multiplyer': 1, 'a_multiplyer': 10, 'repr_dim': 4},\n",
    "\"actionModelArgs\": {'action_model_name': 'NNActionModelCuda', 'nn_engine': \"torch_pykeops\"},\n",
    "\"mdpBuildArgs\": {'n_tran_types': 10, 'n_tran_targets': 5, 'penalty_beta': 10, 'penalty_type': 'linear', 'rebuild_mdpfcache': False,\n",
    "                 'save_mdp2cache': False, 'save_folder': '/nfs/hpc/share/shrestaa/storage/dac_storage_22_Q4/mdp_dumps/random_hash'},\n",
    "\"mdpSolveArgs\": {'device': 'cuda', 'max_n_backups': 5000, \"gamma\": 0.99, 'epsilon': 0.0001, 'penalty_beta': 1, \"operator\": \"simple_backup\"},\n",
    "\"evalArgs\": {'eval_episode_count': 50, \"skip_eval\":True, \"skip_dist_log\":True},\n",
    "})\n",
    "\n",
    "flat_args = lambda config : {f\"{K}::{k}\":v for K in config for k,v in config[K].items() if K != \"flat_args\"}"
   ]
  },
  {
   "cell_type": "code",
   "execution_count": 4,
   "id": "1ddcf975-7c0f-43d0-88dd-91ba7602c957",
   "metadata": {},
   "outputs": [
    {
     "data": {
      "text/plain": [
       "Munch({'wandb_id': 'cartpole_online_test_1', 'wandb_entity': 'dacmdp', 'wandb_project': 'dacmdp_online_test_v0', 'no_wandb_logging': True})"
      ]
     },
     "execution_count": 4,
     "metadata": {},
     "output_type": "execute_result"
    }
   ],
   "source": [
    "config.logArgs"
   ]
  },
  {
   "cell_type": "code",
   "execution_count": 5,
   "id": "9847177a-2d23-4da5-a65d-6d8d771f0046",
   "metadata": {},
   "outputs": [],
   "source": [
    "if not config.logArgs.no_wandb_logging:\n",
    "    wandb_logger.init( id = config.logArgs.wandb_id ,\n",
    "        entity=config.logArgs.wandb_entity,\n",
    "        project=config.logArgs.wandb_project,\n",
    "        config = flat_args(config),\n",
    "        resume = \"allow\")"
   ]
  },
  {
   "cell_type": "code",
   "execution_count": 6,
   "id": "d9d33a45-5551-4247-bf51-d843a8cb5f44",
   "metadata": {},
   "outputs": [],
   "source": [
    "env = gym.make(config.envArgs.env_name)"
   ]
  },
  {
   "cell_type": "code",
   "execution_count": 7,
   "id": "8febdd77-0af2-4583-8a6c-2f6100656d3a",
   "metadata": {},
   "outputs": [
    {
     "name": "stdout",
     "output_type": "stream",
     "text": [
      "Collecting buffer!\n",
      "Average Reward of collected trajectories:17.164\n",
      "Collected buffer!\n"
     ]
    }
   ],
   "source": [
    "from dacmdp.core.models_action import NNActionModel, GlobalClusterActionModel, EnsembleActionModel\n",
    "from dacmdp.core.models_sa_repr import OracleDynamicsRepr, DeltaPredictonRepr\n",
    "\n",
    "######### Get Action and Repr Models ####################################\n",
    "seed_buffer = dacmdp.utils_buffer.generate_or_load_buffer(config, env)\n",
    "cluster_action_count = 10\n",
    "cluster_action_model = GlobalClusterActionModel(action_space=env.action_space,\n",
    "                                   n_actions= cluster_action_count,\n",
    "                                   data_buffer=seed_buffer)\n",
    "\n",
    "sa_repr_model = OracleDynamicsRepr(env_name = config.envArgs.env_name)\n",
    "# sa_repr_model = DeltaPredictonRepr(s_multiplyer=2, \n",
    "#                                    a_multiplyer=1,\n",
    "#                                    buffer=data_buffer_train,\n",
    "#                                    nn_engine=\"torch_pykeops\")\n",
    "######################################################################################################"
   ]
  },
  {
   "cell_type": "code",
   "execution_count": 8,
   "id": "421352ce-5219-4ee4-a728-8523caf9e491",
   "metadata": {},
   "outputs": [
    {
     "name": "stderr",
     "output_type": "stream",
     "text": [
      "/nfs/guille/afern/users/shrestaa/workspaces/dacmdp/dacmdp/envs/cont_cartpole.py:104: UserWarning: \u001b[33mWARN: \n",
      "You are calling 'step()' even though this environment has already returned\n",
      "done = True. You should always call 'reset()' once you receive 'done = True'\n",
      "Any further steps are undnp.float32(low), np.float32(high)efined behavior.\n",
      "                \u001b[0m\n",
      "  logger.warn(\"\"\"\n"
     ]
    },
    {
     "data": {
      "text/plain": [
       "(torch.Size([100, 10, 1]), torch.Size([100, 4]))"
      ]
     },
     "execution_count": 8,
     "metadata": {},
     "output_type": "execute_result"
    }
   ],
   "source": [
    "cluster_action_model.cand_actions_for_states(torch.FloatTensor(seed_buffer.state[0:100]).cuda()).shape,\\\n",
    "sa_repr_model.encode_state_action_pairs(torch.FloatTensor(seed_buffer.state[0:100]),\n",
    "                                       torch.FloatTensor(seed_buffer.action[0:100])).shape"
   ]
  },
  {
   "cell_type": "code",
   "execution_count": 9,
   "id": "cac2a13f-7ded-4196-abdf-4a41665987ae",
   "metadata": {},
   "outputs": [],
   "source": [
    "from collections import defaultdict\n",
    "from tqdm import tqdm \n",
    "\n",
    "def get_replacable_indices(Agent, target_replace_ratio):\n",
    "    nn,aa,sa_dim = Agent.dacmdp_core.T_repr[:,5:,:].shape\n",
    "    s_repr = Agent.dacmdp_core.T_repr[:,5:,:].reshape(nn,aa*sa_dim).contiguous()\n",
    "    knn_indices, knn_distances = THelper.batch_calc_knn_pykeops(s_repr, s_repr, k = 2)\n",
    "    nn_distances = knn_distances[:, 1]\n",
    "    candidate_indices = torch.nonzero(nn_distances <= torch.quantile(nn_distances, target_replace_ratio + 0.05)).reshape(-1)\n",
    "    candidate_root_indices = knn_indices[candidate_indices][:,1]\n",
    "    \n",
    "    is_replacable = defaultdict(lambda: 1)\n",
    "    replace_indices = []\n",
    "    for c,cr in tqdm(zip(candidate_indices, candidate_root_indices)):\n",
    "        c,cr = c.item(), cr.item()\n",
    "        if is_replacable[c]:\n",
    "            replace_indices.append(c)\n",
    "            is_replacable[cr] = False\n",
    "    return replace_indices"
   ]
  },
  {
   "cell_type": "code",
   "execution_count": 10,
   "id": "e057ed19-87e6-4ca0-8533-44bfafab44f8",
   "metadata": {},
   "outputs": [],
   "source": [
    "from dacmdp.data.utils_buffer import StandardElasticBuffer\n",
    "global_buffer = StandardElasticBuffer(state_shape = env.observation_space.shape,\n",
    "               action_shape = [len(env.action_space.sample())], # for discrete settings. \n",
    "                batch_size=32, buffer_size=100000, device=\"cpu\")\n",
    "# policy liftup functions\n",
    "def dummy_lifted_policy(Agent, s, epsilon):\n",
    "    if torch.rand(1).item() < epsilon:\n",
    "        return env.action_space.sample()\n",
    "    else:\n",
    "        nn_s_idx =  THelper.calc_knn_indices(torch.FloatTensor(s).to(Agent.device), Agent.dacmdp_core.S, 1)[0]\n",
    "        policy_idx = Agent.dacmdp_core.Pi[nn_s_idx] \n",
    "        return Agent.A_names[nn_s_idx,policy_idx].cpu().numpy()"
   ]
  },
  {
   "cell_type": "code",
   "execution_count": 11,
   "id": "b4057745-881a-4705-930f-c1391ef79243",
   "metadata": {
    "tags": []
   },
   "outputs": [
    {
     "name": "stdout",
     "output_type": "stream",
     "text": [
      "dacmdp_core_defined\n",
      "Using pre-initialized Action Model GlobalClusterActionModel\n",
      "Using pre-initialized Action Model <dacmdp.core.models_sa_repr.OracleDynamicsRepr object at 0x2b63f14ea2c0>\n",
      "Average Reward of collected trajectories:16.798\n",
      "Average Reward of collected trajectories:16.504\n",
      "40000.0 40000.0\n"
     ]
    },
    {
     "name": "stderr",
     "output_type": "stream",
     "text": [
      "Caculating State Representations: : 157it [00:00, 73823.51it/s]\n"
     ]
    },
    {
     "name": "stdout",
     "output_type": "stream",
     "text": [
      "batch_next_states.shape torch.Size([40000, 4])\n",
      "replace indices :  False torch.Size([40000, 4])\n",
      "Instantiated DACMDP for transition Batch\n",
      "(40000, 15, 5)\n",
      "nn after consumption,  40000\n"
     ]
    },
    {
     "name": "stderr",
     "output_type": "stream",
     "text": [
      "Calculate Candidate Actions: : 40it [00:00, 174.45it/s]\n",
      "Calculate/Update Datsaet SA Representation: : 40it [00:00, 316.56it/s]\n",
      "Calculate/Update Candidate Transition SA Representation: : 40it [00:00, 181.20it/s]\n",
      "Update Transition model of core dacmdp: : 40it [00:00, 191.08it/s]\n"
     ]
    },
    {
     "name": "stdout",
     "output_type": "stream",
     "text": [
      "0 tensor(1.)\n",
      "500 tensor(0.0067)\n",
      "1000 tensor(9.1553e-05)\n",
      "Solved MDP in 1000 Backups\n",
      "Epoch 0: Graph built and solved in 1.78 Seconds\n",
      "Average Reward of collected trajectories:248.765\n",
      "Average Reward of collected trajectories:448.756\n",
      "80000.0 40000.0\n"
     ]
    },
    {
     "name": "stderr",
     "output_type": "stream",
     "text": [
      "Caculating State Representations: : 313it [00:00, 143039.57it/s]\n"
     ]
    },
    {
     "name": "stdout",
     "output_type": "stream",
     "text": [
      "batch_next_states.shape torch.Size([40000, 4])\n",
      "replace indices :  False torch.Size([40000, 4])\n",
      "Instantiated DACMDP for transition Batch\n",
      "(80000, 15, 5)\n",
      "nn after consumption,  80000\n"
     ]
    },
    {
     "name": "stderr",
     "output_type": "stream",
     "text": [
      "Calculate Candidate Actions: : 40it [00:00, 118.83it/s]\n",
      "Calculate/Update Datsaet SA Representation: : 40it [00:00, 201.20it/s]\n",
      "Calculate/Update Candidate Transition SA Representation: : 40it [00:00, 143.09it/s]\n",
      "Update Transition model of core dacmdp: : 40it [00:00, 127.29it/s]\n"
     ]
    },
    {
     "name": "stdout",
     "output_type": "stream",
     "text": [
      "0 tensor(99.9657)\n",
      "500 tensor(0.0012)\n",
      "1000 tensor(7.6294e-06)\n",
      "Solved MDP in 1000 Backups\n",
      "Epoch 1: Graph built and solved in 1.50 Seconds\n",
      "Average Reward of collected trajectories:271.351\n",
      "Average Reward of collected trajectories:491.707\n",
      "120000.0 40000.0\n"
     ]
    },
    {
     "name": "stderr",
     "output_type": "stream",
     "text": [
      "Caculating State Representations: : 469it [00:00, 191131.81it/s]\n"
     ]
    },
    {
     "name": "stdout",
     "output_type": "stream",
     "text": [
      "batch_next_states.shape torch.Size([40000, 4])\n",
      "replace indices :  False torch.Size([40000, 4])\n",
      "Instantiated DACMDP for transition Batch\n",
      "(120000, 15, 5)\n",
      "nn after consumption,  120000\n"
     ]
    },
    {
     "name": "stderr",
     "output_type": "stream",
     "text": [
      "Calculate Candidate Actions: : 40it [00:00, 93.45it/s]\n",
      "Calculate/Update Datsaet SA Representation: : 40it [00:00, 145.93it/s]\n",
      "Calculate/Update Candidate Transition SA Representation: : 40it [00:00, 111.50it/s]\n",
      "Update Transition model of core dacmdp: : 40it [00:00, 96.29it/s]\n"
     ]
    },
    {
     "name": "stdout",
     "output_type": "stream",
     "text": [
      "0 tensor(99.9986)\n",
      "500 tensor(0.0002)\n",
      "1000 tensor(0.)\n",
      "Solved MDP in 1000 Backups\n",
      "Epoch 2: Graph built and solved in 1.99 Seconds\n",
      "Average Reward of collected trajectories:271.76\n",
      "Average Reward of collected trajectories:465.163\n",
      "160000.0 40000.0\n"
     ]
    },
    {
     "name": "stderr",
     "output_type": "stream",
     "text": [
      "Caculating State Representations: : 625it [00:00, 239554.05it/s]\n"
     ]
    },
    {
     "name": "stdout",
     "output_type": "stream",
     "text": [
      "batch_next_states.shape torch.Size([40000, 4])\n",
      "replace indices :  False torch.Size([40000, 4])\n",
      "Instantiated DACMDP for transition Batch\n",
      "(160000, 15, 5)\n",
      "nn after consumption,  160000\n"
     ]
    },
    {
     "name": "stderr",
     "output_type": "stream",
     "text": [
      "Calculate Candidate Actions: : 40it [00:00, 71.44it/s]\n",
      "Calculate/Update Datsaet SA Representation: : 40it [00:00, 113.90it/s]\n",
      "Calculate/Update Candidate Transition SA Representation: : 40it [00:00, 89.41it/s]\n",
      "Update Transition model of core dacmdp: : 40it [00:00, 76.25it/s]\n"
     ]
    },
    {
     "name": "stdout",
     "output_type": "stream",
     "text": [
      "0 tensor(99.9989)\n",
      "500 tensor(0.0056)\n",
      "1000 tensor(3.8147e-05)\n",
      "Solved MDP in 1000 Backups\n",
      "Epoch 3: Graph built and solved in 2.52 Seconds\n",
      "Average Reward of collected trajectories:274.946\n",
      "Average Reward of collected trajectories:489.195\n",
      "200000.0 40000.0\n"
     ]
    },
    {
     "name": "stderr",
     "output_type": "stream",
     "text": [
      "Caculating State Representations: : 782it [00:00, 383754.03it/s]\n"
     ]
    },
    {
     "name": "stdout",
     "output_type": "stream",
     "text": [
      "batch_next_states.shape torch.Size([40000, 4])\n",
      "replace indices :  False torch.Size([40000, 4])\n",
      "Instantiated DACMDP for transition Batch\n",
      "(200000, 15, 5)\n",
      "nn after consumption,  200000\n"
     ]
    },
    {
     "name": "stderr",
     "output_type": "stream",
     "text": [
      "Calculate Candidate Actions: : 40it [00:00, 62.95it/s]\n",
      "Calculate/Update Datsaet SA Representation: : 40it [00:00, 93.16it/s]\n",
      "Calculate/Update Candidate Transition SA Representation: : 40it [00:00, 75.89it/s]\n",
      "Update Transition model of core dacmdp: : 40it [00:00, 63.37it/s]\n"
     ]
    },
    {
     "name": "stdout",
     "output_type": "stream",
     "text": [
      "0 tensor(99.9994)\n",
      "500 tensor(0.0010)\n",
      "1000 tensor(7.6294e-06)\n",
      "Solved MDP in 1000 Backups\n",
      "Epoch 4: Graph built and solved in 3.02 Seconds\n",
      "Average Reward of collected trajectories:250.788\n",
      "Average Reward of collected trajectories:473.93\n",
      "240000.0 40000.0\n"
     ]
    },
    {
     "name": "stderr",
     "output_type": "stream",
     "text": [
      "Caculating State Representations: : 938it [00:00, 293294.85it/s]\n"
     ]
    },
    {
     "name": "stdout",
     "output_type": "stream",
     "text": [
      "batch_next_states.shape torch.Size([40000, 4])\n",
      "replace indices :  True torch.Size([40000, 4])\n",
      "Instantiated DACMDP for transition Batch\n",
      "(200000, 15, 5)\n",
      "nn after consumption,  200000\n"
     ]
    },
    {
     "name": "stderr",
     "output_type": "stream",
     "text": [
      "Calculate Candidate Actions: : 40it [00:00, 52.00it/s]\n",
      "Calculate/Update Datsaet SA Representation: : 40it [00:00, 81.22it/s]\n",
      "Calculate/Update Candidate Transition SA Representation: : 40it [00:00, 67.76it/s]\n",
      "Update Transition model of core dacmdp: : 40it [00:00, 66.70it/s]\n",
      "Update Transition model of stale states in dacmdp: : 182it [00:02, 68.91it/s]\n"
     ]
    },
    {
     "name": "stdout",
     "output_type": "stream",
     "text": [
      "0 tensor(99.9989)\n",
      "500 tensor(0.0007)\n",
      "1000 tensor(1.5259e-05)\n",
      "Solved MDP in 1000 Backups\n",
      "Epoch 5: Graph built and solved in 6.07 Seconds\n",
      "Average Reward of collected trajectories:267.48\n",
      "Average Reward of collected trajectories:477.19\n",
      "280000.0 40000.0\n"
     ]
    },
    {
     "name": "stderr",
     "output_type": "stream",
     "text": [
      "Caculating State Representations: : 1094it [00:00, 308475.20it/s]\n"
     ]
    },
    {
     "name": "stdout",
     "output_type": "stream",
     "text": [
      "batch_next_states.shape torch.Size([40000, 4])\n",
      "replace indices :  True torch.Size([40000, 4])\n",
      "Instantiated DACMDP for transition Batch\n",
      "(200000, 15, 5)\n",
      "nn after consumption,  200000\n"
     ]
    },
    {
     "name": "stderr",
     "output_type": "stream",
     "text": [
      "Calculate Candidate Actions: : 40it [00:00, 47.39it/s]\n",
      "Calculate/Update Datsaet SA Representation: : 40it [00:00, 70.69it/s]\n",
      "Calculate/Update Candidate Transition SA Representation: : 40it [00:00, 58.64it/s]\n",
      "Update Transition model of core dacmdp: : 40it [00:00, 66.60it/s]\n",
      "Update Transition model of stale states in dacmdp: : 198it [00:02, 68.61it/s]\n"
     ]
    },
    {
     "name": "stdout",
     "output_type": "stream",
     "text": [
      "0 tensor(99.9992)\n",
      "500 tensor(0.0011)\n",
      "1000 tensor(7.6294e-06)\n",
      "Solved MDP in 1000 Backups\n",
      "Epoch 6: Graph built and solved in 6.57 Seconds\n",
      "Average Reward of collected trajectories:262.558\n",
      "Average Reward of collected trajectories:477.619\n",
      "320000.0 40000.0\n"
     ]
    },
    {
     "name": "stderr",
     "output_type": "stream",
     "text": [
      "Caculating State Representations: : 1250it [00:00, 328439.52it/s]\n"
     ]
    },
    {
     "name": "stdout",
     "output_type": "stream",
     "text": [
      "batch_next_states.shape torch.Size([40000, 4])\n",
      "replace indices :  True torch.Size([40000, 4])\n",
      "Instantiated DACMDP for transition Batch\n",
      "(200000, 15, 5)\n",
      "nn after consumption,  200000\n"
     ]
    },
    {
     "name": "stderr",
     "output_type": "stream",
     "text": [
      "Calculate Candidate Actions: : 40it [00:00, 40.69it/s]\n",
      "Calculate/Update Datsaet SA Representation: : 40it [00:00, 62.20it/s]\n",
      "Calculate/Update Candidate Transition SA Representation: : 40it [00:00, 53.83it/s]\n",
      "Update Transition model of core dacmdp: : 40it [00:00, 66.33it/s]\n",
      "Update Transition model of stale states in dacmdp: : 199it [00:02, 68.56it/s]\n"
     ]
    },
    {
     "name": "stdout",
     "output_type": "stream",
     "text": [
      "0 tensor(99.9993)\n",
      "500 tensor(8.3923e-05)\n",
      "Solved MDP in 500 Backups\n",
      "Epoch 7: Graph built and solved in 6.51 Seconds\n",
      "Average Reward of collected trajectories:222.322\n",
      "Average Reward of collected trajectories:455.467\n",
      "360000.0 40000.0\n"
     ]
    },
    {
     "name": "stderr",
     "output_type": "stream",
     "text": [
      "Caculating State Representations: : 1407it [00:00, 424163.42it/s]\n"
     ]
    },
    {
     "name": "stdout",
     "output_type": "stream",
     "text": [
      "batch_next_states.shape torch.Size([40000, 4])\n",
      "replace indices :  True torch.Size([40000, 4])\n",
      "Instantiated DACMDP for transition Batch\n",
      "(200000, 15, 5)\n",
      "nn after consumption,  200000\n"
     ]
    },
    {
     "name": "stderr",
     "output_type": "stream",
     "text": [
      "Calculate Candidate Actions: : 40it [00:01, 37.95it/s]\n",
      "Calculate/Update Datsaet SA Representation: : 40it [00:00, 55.71it/s]\n",
      "Calculate/Update Candidate Transition SA Representation: : 40it [00:00, 48.62it/s]\n",
      "Update Transition model of core dacmdp: : 40it [00:00, 66.62it/s]\n",
      "Update Transition model of stale states in dacmdp: : 200it [00:02, 68.59it/s]\n"
     ]
    },
    {
     "name": "stdout",
     "output_type": "stream",
     "text": [
      "0 tensor(99.9990)\n",
      "500 tensor(9.9182e-05)\n",
      "Solved MDP in 500 Backups\n",
      "Epoch 8: Graph built and solved in 6.75 Seconds\n",
      "Average Reward of collected trajectories:222.242\n",
      "Average Reward of collected trajectories:440.957\n",
      "400000.0 40000.0\n"
     ]
    },
    {
     "name": "stderr",
     "output_type": "stream",
     "text": [
      "Caculating State Representations: : 1563it [00:00, 358352.31it/s]\n"
     ]
    },
    {
     "name": "stdout",
     "output_type": "stream",
     "text": [
      "batch_next_states.shape torch.Size([40000, 4])\n",
      "replace indices :  True torch.Size([40000, 4])\n",
      "Instantiated DACMDP for transition Batch\n",
      "(200000, 15, 5)\n",
      "nn after consumption,  200000\n"
     ]
    },
    {
     "name": "stderr",
     "output_type": "stream",
     "text": [
      "Calculate Candidate Actions: : 40it [00:01, 34.02it/s]\n",
      "Calculate/Update Datsaet SA Representation: : 40it [00:00, 50.60it/s]\n",
      "Calculate/Update Candidate Transition SA Representation: : 40it [00:00, 44.70it/s]\n",
      "Update Transition model of core dacmdp: : 40it [00:00, 66.71it/s]\n",
      "Update Transition model of stale states in dacmdp: : 198it [00:02, 68.50it/s]\n"
     ]
    },
    {
     "name": "stdout",
     "output_type": "stream",
     "text": [
      "0 tensor(99.9988)\n",
      "500 tensor(0.0002)\n",
      "1000 tensor(1.5259e-05)\n",
      "Solved MDP in 1000 Backups\n",
      "Epoch 9: Graph built and solved in 7.33 Seconds\n",
      "Average Reward of collected trajectories:232.943\n",
      "Average Reward of collected trajectories:451.0\n",
      "440000.0 40000.0\n"
     ]
    },
    {
     "name": "stderr",
     "output_type": "stream",
     "text": [
      "Caculating State Representations: : 1719it [00:00, 376207.07it/s]\n"
     ]
    },
    {
     "name": "stdout",
     "output_type": "stream",
     "text": [
      "batch_next_states.shape torch.Size([40000, 4])\n",
      "replace indices :  True torch.Size([40000, 4])\n",
      "Instantiated DACMDP for transition Batch\n",
      "(200000, 15, 5)\n",
      "nn after consumption,  200000\n"
     ]
    },
    {
     "name": "stderr",
     "output_type": "stream",
     "text": [
      "Calculate Candidate Actions: : 40it [00:01, 31.10it/s]\n",
      "Calculate/Update Datsaet SA Representation: : 40it [00:00, 46.19it/s]\n",
      "Calculate/Update Candidate Transition SA Representation: : 40it [00:00, 40.60it/s]\n",
      "Update Transition model of core dacmdp: : 40it [00:00, 66.38it/s]\n",
      "Update Transition model of stale states in dacmdp: : 197it [00:02, 68.92it/s]\n"
     ]
    },
    {
     "name": "stdout",
     "output_type": "stream",
     "text": [
      "0 tensor(99.9993)\n",
      "500 tensor(0.0002)\n",
      "1000 tensor(7.6294e-06)\n",
      "Solved MDP in 1000 Backups\n",
      "Epoch 10: Graph built and solved in 7.58 Seconds\n",
      "Average Reward of collected trajectories:220.165\n",
      "Average Reward of collected trajectories:441.413\n",
      "480000.0 40000.0\n"
     ]
    },
    {
     "name": "stderr",
     "output_type": "stream",
     "text": [
      "Caculating State Representations: : 1875it [00:00, 371273.72it/s]\n"
     ]
    },
    {
     "name": "stdout",
     "output_type": "stream",
     "text": [
      "batch_next_states.shape torch.Size([40000, 4])\n",
      "replace indices :  True torch.Size([40000, 4])\n",
      "Instantiated DACMDP for transition Batch\n",
      "(200000, 15, 5)\n",
      "nn after consumption,  200000\n"
     ]
    },
    {
     "name": "stderr",
     "output_type": "stream",
     "text": [
      "Calculate Candidate Actions: : 40it [00:01, 29.27it/s]\n",
      "Calculate/Update Datsaet SA Representation: : 40it [00:00, 42.71it/s]\n",
      "Calculate/Update Candidate Transition SA Representation: : 40it [00:01, 38.18it/s]\n",
      "Update Transition model of core dacmdp: : 40it [00:00, 65.78it/s]\n",
      "Update Transition model of stale states in dacmdp: : 198it [00:02, 69.27it/s]\n"
     ]
    },
    {
     "name": "stdout",
     "output_type": "stream",
     "text": [
      "0 tensor(99.9988)\n",
      "500 tensor(0.0001)\n",
      "1000 tensor(7.6294e-06)\n",
      "Solved MDP in 1000 Backups\n",
      "Epoch 11: Graph built and solved in 7.80 Seconds\n",
      "Average Reward of collected trajectories:225.348\n",
      "Average Reward of collected trajectories:445.304\n",
      "520000.0 40000.0\n"
     ]
    },
    {
     "name": "stderr",
     "output_type": "stream",
     "text": [
      "Caculating State Representations: : 2032it [00:00, 386522.71it/s]\n"
     ]
    },
    {
     "name": "stdout",
     "output_type": "stream",
     "text": [
      "batch_next_states.shape torch.Size([40000, 4])\n",
      "replace indices :  True torch.Size([40000, 4])\n",
      "Instantiated DACMDP for transition Batch\n",
      "(200000, 15, 5)\n",
      "nn after consumption,  200000\n"
     ]
    },
    {
     "name": "stderr",
     "output_type": "stream",
     "text": [
      "Calculate Candidate Actions: : 40it [00:01, 26.98it/s]\n",
      "Calculate/Update Datsaet SA Representation: : 40it [00:01, 39.48it/s]\n",
      "Calculate/Update Candidate Transition SA Representation: : 40it [00:01, 35.81it/s]\n",
      "Update Transition model of core dacmdp: : 40it [00:00, 66.99it/s]\n",
      "Update Transition model of stale states in dacmdp: : 199it [00:02, 68.81it/s]\n"
     ]
    },
    {
     "name": "stdout",
     "output_type": "stream",
     "text": [
      "0 tensor(99.9993)\n",
      "500 tensor(0.0001)\n",
      "1000 tensor(1.5259e-05)\n",
      "Solved MDP in 1000 Backups\n",
      "Epoch 12: Graph built and solved in 8.09 Seconds\n",
      "Average Reward of collected trajectories:215.398\n",
      "Average Reward of collected trajectories:453.422\n",
      "560000.0 40000.0\n"
     ]
    },
    {
     "name": "stderr",
     "output_type": "stream",
     "text": [
      "Caculating State Representations: : 2188it [00:00, 400503.50it/s]\n"
     ]
    },
    {
     "name": "stdout",
     "output_type": "stream",
     "text": [
      "batch_next_states.shape torch.Size([40000, 4])\n",
      "replace indices :  True torch.Size([40000, 4])\n",
      "Instantiated DACMDP for transition Batch\n",
      "(200000, 15, 5)\n",
      "nn after consumption,  200000\n"
     ]
    },
    {
     "name": "stderr",
     "output_type": "stream",
     "text": [
      "Calculate Candidate Actions: : 40it [00:01, 25.01it/s]\n",
      "Calculate/Update Datsaet SA Representation: : 40it [00:01, 36.78it/s]\n",
      "Calculate/Update Candidate Transition SA Representation: : 40it [00:01, 33.48it/s]\n",
      "Update Transition model of core dacmdp: : 40it [00:00, 66.78it/s]\n",
      "Update Transition model of stale states in dacmdp: : 199it [00:02, 68.52it/s]\n"
     ]
    },
    {
     "name": "stdout",
     "output_type": "stream",
     "text": [
      "0 tensor(99.9988)\n",
      "500 tensor(0.0002)\n",
      "1000 tensor(7.6294e-06)\n",
      "Solved MDP in 1000 Backups\n",
      "Epoch 13: Graph built and solved in 8.28 Seconds\n",
      "Average Reward of collected trajectories:217.426\n",
      "Average Reward of collected trajectories:435.935\n",
      "600000.0 40000.0\n"
     ]
    },
    {
     "name": "stderr",
     "output_type": "stream",
     "text": [
      "Caculating State Representations: : 2344it [00:00, 340047.34it/s]\n"
     ]
    },
    {
     "name": "stdout",
     "output_type": "stream",
     "text": [
      "batch_next_states.shape torch.Size([40000, 4])\n",
      "replace indices :  True torch.Size([40000, 4])\n",
      "Instantiated DACMDP for transition Batch\n",
      "(200000, 15, 5)\n",
      "nn after consumption,  200000\n"
     ]
    },
    {
     "name": "stderr",
     "output_type": "stream",
     "text": [
      "Calculate Candidate Actions: : 40it [00:01, 23.59it/s]\n",
      "Calculate/Update Datsaet SA Representation: : 40it [00:01, 34.42it/s]\n",
      "Calculate/Update Candidate Transition SA Representation: : 40it [00:01, 31.62it/s]\n",
      "Update Transition model of core dacmdp: : 40it [00:00, 67.51it/s]\n",
      "Update Transition model of stale states in dacmdp: : 199it [00:02, 69.87it/s]\n"
     ]
    },
    {
     "name": "stdout",
     "output_type": "stream",
     "text": [
      "0 tensor(99.9989)\n",
      "500 tensor(0.0001)\n",
      "1000 tensor(0.)\n",
      "Solved MDP in 1000 Backups\n",
      "Epoch 14: Graph built and solved in 8.45 Seconds\n",
      "Average Reward of collected trajectories:219.935\n",
      "Average Reward of collected trajectories:445.289\n",
      "640000.0 40000.0\n"
     ]
    },
    {
     "name": "stderr",
     "output_type": "stream",
     "text": [
      "Caculating State Representations: : 2500it [00:00, 383433.65it/s]\n"
     ]
    },
    {
     "name": "stdout",
     "output_type": "stream",
     "text": [
      "batch_next_states.shape torch.Size([40000, 4])\n",
      "replace indices :  True torch.Size([40000, 4])\n",
      "Instantiated DACMDP for transition Batch\n",
      "(200000, 15, 5)\n",
      "nn after consumption,  200000\n"
     ]
    },
    {
     "name": "stderr",
     "output_type": "stream",
     "text": [
      "Calculate Candidate Actions: : 40it [00:01, 22.34it/s]\n",
      "Calculate/Update Datsaet SA Representation: : 40it [00:01, 32.42it/s]\n",
      "Calculate/Update Candidate Transition SA Representation: : 40it [00:01, 29.90it/s]\n",
      "Update Transition model of core dacmdp: : 40it [00:00, 66.51it/s]\n",
      "Update Transition model of stale states in dacmdp: : 199it [00:02, 68.44it/s]\n"
     ]
    },
    {
     "name": "stdout",
     "output_type": "stream",
     "text": [
      "0 tensor(99.9988)\n",
      "500 tensor(0.0015)\n",
      "1000 tensor(7.6294e-06)\n",
      "Solved MDP in 1000 Backups\n",
      "Epoch 15: Graph built and solved in 8.77 Seconds\n",
      "Average Reward of collected trajectories:239.952\n",
      "Average Reward of collected trajectories:457.227\n",
      "680000.0 40000.0\n"
     ]
    },
    {
     "name": "stderr",
     "output_type": "stream",
     "text": [
      "Caculating State Representations: : 2657it [00:00, 396184.21it/s]\n"
     ]
    },
    {
     "name": "stdout",
     "output_type": "stream",
     "text": [
      "batch_next_states.shape torch.Size([40000, 4])\n",
      "replace indices :  True torch.Size([40000, 4])\n",
      "Instantiated DACMDP for transition Batch\n",
      "(200000, 15, 5)\n",
      "nn after consumption,  200000\n"
     ]
    },
    {
     "name": "stderr",
     "output_type": "stream",
     "text": [
      "Calculate Candidate Actions: : 40it [00:01, 21.34it/s]\n",
      "Calculate/Update Datsaet SA Representation: : 40it [00:01, 30.37it/s]\n",
      "Calculate/Update Candidate Transition SA Representation: : 40it [00:01, 28.17it/s]\n",
      "Update Transition model of core dacmdp: : 40it [00:00, 66.49it/s]\n",
      "Update Transition model of stale states in dacmdp: : 197it [00:02, 68.59it/s]\n"
     ]
    },
    {
     "name": "stdout",
     "output_type": "stream",
     "text": [
      "0 tensor(99.9991)\n",
      "500 tensor(0.0001)\n",
      "1000 tensor(7.6294e-06)\n",
      "Solved MDP in 1000 Backups\n",
      "Epoch 16: Graph built and solved in 9.07 Seconds\n",
      "Average Reward of collected trajectories:228.989\n",
      "Average Reward of collected trajectories:443.348\n",
      "720000.0 40000.0\n"
     ]
    },
    {
     "name": "stderr",
     "output_type": "stream",
     "text": [
      "Caculating State Representations: : 2813it [00:00, 420222.14it/s]\n"
     ]
    },
    {
     "name": "stdout",
     "output_type": "stream",
     "text": [
      "batch_next_states.shape torch.Size([40000, 4])\n",
      "replace indices :  True torch.Size([40000, 4])\n",
      "Instantiated DACMDP for transition Batch\n",
      "(200000, 15, 5)\n",
      "nn after consumption,  200000\n"
     ]
    },
    {
     "name": "stderr",
     "output_type": "stream",
     "text": [
      "Calculate Candidate Actions: : 40it [00:02, 19.94it/s]\n",
      "Calculate/Update Datsaet SA Representation: : 40it [00:01, 28.87it/s]\n",
      "Calculate/Update Candidate Transition SA Representation: : 40it [00:01, 26.87it/s]\n",
      "Update Transition model of core dacmdp: : 40it [00:00, 66.77it/s]\n",
      "Update Transition model of stale states in dacmdp: : 198it [00:02, 68.17it/s]\n"
     ]
    },
    {
     "name": "stdout",
     "output_type": "stream",
     "text": [
      "0 tensor(99.9990)\n",
      "500 tensor(0.0004)\n",
      "1000 tensor(1.5259e-05)\n",
      "Solved MDP in 1000 Backups\n",
      "Epoch 17: Graph built and solved in 9.38 Seconds\n",
      "Average Reward of collected trajectories:263.519\n",
      "Average Reward of collected trajectories:427.128\n",
      "760000.0 40000.0\n"
     ]
    },
    {
     "name": "stderr",
     "output_type": "stream",
     "text": [
      "Caculating State Representations: : 2969it [00:00, 430017.91it/s]\n"
     ]
    },
    {
     "name": "stdout",
     "output_type": "stream",
     "text": [
      "batch_next_states.shape torch.Size([40000, 4])\n",
      "replace indices :  True torch.Size([40000, 4])\n",
      "Instantiated DACMDP for transition Batch\n",
      "(200000, 15, 5)\n",
      "nn after consumption,  200000\n"
     ]
    },
    {
     "name": "stderr",
     "output_type": "stream",
     "text": [
      "Calculate Candidate Actions: : 40it [00:02, 18.68it/s]\n",
      "Calculate/Update Datsaet SA Representation: : 40it [00:01, 27.50it/s]\n",
      "Calculate/Update Candidate Transition SA Representation: : 40it [00:01, 25.53it/s]\n",
      "Update Transition model of core dacmdp: : 40it [00:00, 66.29it/s]\n",
      "Update Transition model of stale states in dacmdp: : 198it [00:02, 68.88it/s]\n"
     ]
    },
    {
     "name": "stdout",
     "output_type": "stream",
     "text": [
      "0 tensor(99.9985)\n",
      "500 tensor(0.0001)\n",
      "1000 tensor(7.6294e-06)\n",
      "Solved MDP in 1000 Backups\n",
      "Epoch 18: Graph built and solved in 9.63 Seconds\n",
      "Average Reward of collected trajectories:207.367\n",
      "Average Reward of collected trajectories:449.067\n",
      "800000.0 40000.0\n"
     ]
    },
    {
     "name": "stderr",
     "output_type": "stream",
     "text": [
      "Caculating State Representations: : 3125it [00:00, 324580.26it/s]\n"
     ]
    },
    {
     "name": "stdout",
     "output_type": "stream",
     "text": [
      "batch_next_states.shape torch.Size([40000, 4])\n",
      "replace indices :  True torch.Size([40000, 4])\n",
      "Instantiated DACMDP for transition Batch\n",
      "(200000, 15, 5)\n",
      "nn after consumption,  200000\n"
     ]
    },
    {
     "name": "stderr",
     "output_type": "stream",
     "text": [
      "Calculate Candidate Actions: : 40it [00:02, 18.05it/s]\n",
      "Calculate/Update Datsaet SA Representation: : 40it [00:01, 26.11it/s]\n",
      "Calculate/Update Candidate Transition SA Representation: : 40it [00:01, 24.44it/s]\n",
      "Update Transition model of core dacmdp: : 40it [00:00, 66.77it/s]\n",
      "Update Transition model of stale states in dacmdp: : 199it [00:02, 68.91it/s]\n"
     ]
    },
    {
     "name": "stdout",
     "output_type": "stream",
     "text": [
      "0 tensor(99.9987)\n",
      "500 tensor(0.0015)\n",
      "1000 tensor(7.6294e-06)\n",
      "Solved MDP in 1000 Backups\n",
      "Epoch 19: Graph built and solved in 9.86 Seconds\n",
      "Average Reward of collected trajectories:208.423\n",
      "Average Reward of collected trajectories:446.978\n",
      "840000.0 40000.0\n"
     ]
    },
    {
     "name": "stderr",
     "output_type": "stream",
     "text": [
      "Caculating State Representations: : 3282it [00:00, 444298.67it/s]\n"
     ]
    },
    {
     "name": "stdout",
     "output_type": "stream",
     "text": [
      "batch_next_states.shape torch.Size([40000, 4])\n",
      "replace indices :  True torch.Size([40000, 4])\n",
      "Instantiated DACMDP for transition Batch\n",
      "(200000, 15, 5)\n",
      "nn after consumption,  200000\n"
     ]
    },
    {
     "name": "stderr",
     "output_type": "stream",
     "text": [
      "Calculate Candidate Actions: : 40it [00:02, 17.18it/s]\n",
      "Calculate/Update Datsaet SA Representation: : 40it [00:01, 25.03it/s]\n",
      "Calculate/Update Candidate Transition SA Representation: : 40it [00:01, 23.36it/s]\n",
      "Update Transition model of core dacmdp: : 40it [00:00, 66.43it/s]\n",
      "Update Transition model of stale states in dacmdp: : 199it [00:02, 68.11it/s]\n"
     ]
    },
    {
     "name": "stdout",
     "output_type": "stream",
     "text": [
      "0 tensor(99.9987)\n",
      "500 tensor(0.0001)\n",
      "1000 tensor(7.6294e-06)\n",
      "Solved MDP in 1000 Backups\n",
      "Epoch 20: Graph built and solved in 10.06 Seconds\n",
      "Average Reward of collected trajectories:202.737\n",
      "Average Reward of collected trajectories:432.766\n",
      "880000.0 40000.0\n"
     ]
    },
    {
     "name": "stderr",
     "output_type": "stream",
     "text": [
      "Caculating State Representations: : 3438it [00:00, 412861.60it/s]\n"
     ]
    },
    {
     "name": "stdout",
     "output_type": "stream",
     "text": [
      "batch_next_states.shape torch.Size([40000, 4])\n",
      "replace indices :  True torch.Size([40000, 4])\n",
      "Instantiated DACMDP for transition Batch\n",
      "(200000, 15, 5)\n",
      "nn after consumption,  200000\n"
     ]
    },
    {
     "name": "stderr",
     "output_type": "stream",
     "text": [
      "Calculate Candidate Actions: : 40it [00:02, 16.49it/s]\n",
      "Calculate/Update Datsaet SA Representation: : 40it [00:01, 23.94it/s]\n",
      "Calculate/Update Candidate Transition SA Representation: : 40it [00:01, 22.52it/s]\n",
      "Update Transition model of core dacmdp: : 40it [00:00, 64.16it/s]\n",
      "Update Transition model of stale states in dacmdp: : 198it [00:02, 69.00it/s]\n"
     ]
    },
    {
     "name": "stdout",
     "output_type": "stream",
     "text": [
      "0 tensor(99.9989)\n",
      "500 tensor(0.0001)\n",
      "1000 tensor(7.6294e-06)\n",
      "Solved MDP in 1000 Backups\n",
      "Epoch 21: Graph built and solved in 10.26 Seconds\n",
      "Average Reward of collected trajectories:210.853\n",
      "Average Reward of collected trajectories:412.714\n",
      "920000.0 40000.0\n"
     ]
    },
    {
     "name": "stderr",
     "output_type": "stream",
     "text": [
      "Caculating State Representations: : 3594it [00:00, 436317.36it/s]\n"
     ]
    },
    {
     "name": "stdout",
     "output_type": "stream",
     "text": [
      "batch_next_states.shape torch.Size([40000, 4])\n",
      "replace indices :  True torch.Size([40000, 4])\n",
      "Instantiated DACMDP for transition Batch\n",
      "(200000, 15, 5)\n",
      "nn after consumption,  200000\n"
     ]
    },
    {
     "name": "stderr",
     "output_type": "stream",
     "text": [
      "Calculate Candidate Actions: : 40it [00:02, 15.85it/s]\n",
      "Calculate/Update Datsaet SA Representation: : 40it [00:01, 22.97it/s]\n",
      "Calculate/Update Candidate Transition SA Representation: : 40it [00:01, 21.68it/s]\n",
      "Update Transition model of core dacmdp: : 40it [00:00, 66.73it/s]\n",
      "Update Transition model of stale states in dacmdp: : 198it [00:02, 68.53it/s]\n"
     ]
    },
    {
     "name": "stdout",
     "output_type": "stream",
     "text": [
      "0 tensor(99.9986)\n",
      "500 tensor(0.0002)\n",
      "1000 tensor(7.6294e-06)\n",
      "Solved MDP in 1000 Backups\n",
      "Epoch 22: Graph built and solved in 10.50 Seconds\n",
      "Average Reward of collected trajectories:213.105\n",
      "Average Reward of collected trajectories:412.429\n",
      "960000.0 40000.0\n"
     ]
    },
    {
     "name": "stderr",
     "output_type": "stream",
     "text": [
      "Caculating State Representations: : 3750it [00:00, 408536.10it/s]\n"
     ]
    },
    {
     "name": "stdout",
     "output_type": "stream",
     "text": [
      "batch_next_states.shape torch.Size([40000, 4])\n",
      "replace indices :  True torch.Size([40000, 4])\n",
      "Instantiated DACMDP for transition Batch\n",
      "(200000, 15, 5)\n",
      "nn after consumption,  200000\n"
     ]
    },
    {
     "name": "stderr",
     "output_type": "stream",
     "text": [
      "Calculate Candidate Actions: : 40it [00:02, 15.18it/s]\n",
      "Calculate/Update Datsaet SA Representation: : 40it [00:01, 21.98it/s]\n",
      "Calculate/Update Candidate Transition SA Representation: : 40it [00:01, 20.87it/s]\n",
      "Update Transition model of core dacmdp: : 40it [00:00, 66.93it/s]\n",
      "Update Transition model of stale states in dacmdp: : 198it [00:02, 68.88it/s]\n"
     ]
    },
    {
     "name": "stdout",
     "output_type": "stream",
     "text": [
      "0 tensor(99.9983)\n",
      "500 tensor(0.0013)\n",
      "1000 tensor(7.6294e-06)\n",
      "Solved MDP in 1000 Backups\n",
      "Epoch 23: Graph built and solved in 10.74 Seconds\n",
      "Average Reward of collected trajectories:201.28\n",
      "Average Reward of collected trajectories:449.133\n",
      "1000000.0 40000.0\n"
     ]
    },
    {
     "name": "stderr",
     "output_type": "stream",
     "text": [
      "Caculating State Representations: : 3907it [00:00, 423801.84it/s]\n"
     ]
    },
    {
     "name": "stdout",
     "output_type": "stream",
     "text": [
      "batch_next_states.shape torch.Size([40000, 4])\n",
      "replace indices :  True torch.Size([40000, 4])\n",
      "Instantiated DACMDP for transition Batch\n",
      "(200000, 15, 5)\n",
      "nn after consumption,  200000\n"
     ]
    },
    {
     "name": "stderr",
     "output_type": "stream",
     "text": [
      "Calculate Candidate Actions: : 40it [00:02, 14.64it/s]\n",
      "Calculate/Update Datsaet SA Representation: : 40it [00:01, 21.18it/s]\n",
      "Calculate/Update Candidate Transition SA Representation: : 40it [00:02, 19.85it/s]\n",
      "Update Transition model of core dacmdp: : 40it [00:00, 66.45it/s]\n",
      "Update Transition model of stale states in dacmdp: : 198it [00:02, 69.55it/s]\n"
     ]
    },
    {
     "name": "stdout",
     "output_type": "stream",
     "text": [
      "0 tensor(99.9987)\n",
      "500 tensor(0.0001)\n",
      "1000 tensor(7.6294e-06)\n",
      "Solved MDP in 1000 Backups\n",
      "Epoch 24: Graph built and solved in 10.98 Seconds\n"
     ]
    }
   ],
   "source": [
    "import time\n",
    "import matplotlib.pyplot as plt \n",
    "import numpy as np \n",
    "import copy\n",
    "from dacmdp.core.utils_misc import plot_distributions_as_rgb_array\n",
    "from dacmdp.eval.utils_eval import evaluate_on_env\n",
    "from dacmdp.data.utils_buffer import StandardBuffer\n",
    "from dacmdp.core.dac_core import DACTransitionBatch\n",
    "from dacmdp.core.dac_build import DACBuildWithActionNames\n",
    "from dacmdp.core.utils_knn import THelper\n",
    "\n",
    "total_training_points = 200000\n",
    "point_batch_size = 40000\n",
    "curr_data_points = 0\n",
    "avg_rewards = 0\n",
    "rewards_log, dac_plot_log, gen_log = [], [], []\n",
    "images = 0\n",
    "\n",
    "# Instantiate Elastic Agent\n",
    "config.mdpBuildArgs.n_tran_types = cluster_action_count + 5\n",
    "elasticAgent = DACBuildWithActionNames( config = config, \n",
    "                                    action_space = env.action_space, \n",
    "                                    action_model = cluster_action_model, # Update this later.\n",
    "                                    repr_model = sa_repr_model, \n",
    "                                    effective_batch_size= 1000, \n",
    "                                    batch_calc_knn_ret_flat_engine = THelper.batch_calc_knn_ret_flat_pykeops\n",
    "                                    )\n",
    "\n",
    "to_remove_indices_queue = list(range(total_training_points))\n",
    "    \n",
    "for epoch_i in range((total_training_points//point_batch_size)*5):\n",
    "    ######### TT 1: Data collect   ###########################################################################\n",
    "    random_policy = lambda s:dummy_lifted_policy(elasticAgent,s, epsilon = 1)\n",
    "    explore_policy = lambda s:dummy_lifted_policy(elasticAgent,s, epsilon = 0.1)\n",
    "    optimal_policy = lambda s:dummy_lifted_policy(elasticAgent,s, epsilon = 0)\n",
    "        \n",
    "    data_buffer = StandardBuffer(state_shape = env.observation_space.shape,\n",
    "                           action_shape = [len(env.action_space.sample())], # for discrete settings. \n",
    "                            batch_size=32, buffer_size=point_batch_size, device=\"cpu\")\n",
    "    _data_buffer, info_explore = StandardBuffer.populate_buffer(data_buffer, env, \n",
    "                                                   policy = random_policy if epoch_i ==0 else explore_policy,\n",
    "                                                   episode_count=99999, \n",
    "                                                   frame_count=int(point_batch_size/2))\n",
    "    _data_buffer, info_optimal = StandardBuffer.populate_buffer(data_buffer, env, \n",
    "                                                   policy = random_policy if epoch_i ==0 else optimal_policy,\n",
    "                                                   episode_count=99999, \n",
    "                                                   frame_count=int(point_batch_size/2))\n",
    "    data_buffer = copy.deepcopy(_data_buffer)\n",
    "    global_buffer.append_buffer(data_buffer)\n",
    "    print(np.sum(global_buffer.reward), np.sum(data_buffer.reward))\n",
    "    ######################################################################################################\n",
    "    \n",
    "    \n",
    "    ######### TT 2: Update Action Model  ###########################################################################\n",
    "    # Action Model\n",
    "    nn_action_model = NNActionModel(action_space = env.action_space,\n",
    "                                   n_actions = 5,\n",
    "                                   data_buffer = global_buffer,\n",
    "                                   nn_engine= config.actionModelArgs.nn_engine,\n",
    "                                   projection_fxn=lambda s: s, \n",
    "                                   )\n",
    "    action_model = EnsembleActionModel(env.action_space,[nn_action_model, cluster_action_model])\n",
    "    # action_model = cluster_action_model\n",
    "    config.mdpBuildArgs.n_tran_types = action_model.n_actions\n",
    "    \n",
    "    sa_repr_model = DeltaPredictonRepr(s_multiplyer=2, \n",
    "                                   a_multiplyer=1,\n",
    "                                   buffer=global_buffer,\n",
    "                                   nn_engine=\"torch_pykeops\")\n",
    "    elasticAgent.action_model = action_model\n",
    "    elasticAgent.repr_model = sa_repr_model\n",
    "    ######################################################################################################\n",
    "    \n",
    "\n",
    "    ######### TT 3: DACMDP Elastic Build   ###########################################################################\n",
    "    st = time.time()\n",
    "    \n",
    "    if len(global_buffer) > total_training_points:\n",
    "        # ratio = (point_batch_size/total_training_points) \n",
    "        # replace_at_indices = get_replacable_indices(elasticAgent, ratio)\n",
    "        replace_at_indices = to_remove_indices_queue[:point_batch_size]\n",
    "        to_remove_indices_queue = to_remove_indices_queue[point_batch_size:] + to_remove_indices_queue[:point_batch_size]\n",
    "        bb = len(replace_at_indices)\n",
    "    else:\n",
    "        replace_at_indices = None\n",
    "        bb = len(data_buffer.state)\n",
    "\n",
    "    transitions = DACTransitionBatch(torch.FloatTensor(data_buffer.all_states[:bb]).clone().detach(),\n",
    "                        torch.FloatTensor(data_buffer.all_actions[:bb]).clone().detach(),\n",
    "                        torch.FloatTensor(data_buffer.all_next_states[:bb]).clone().detach(),\n",
    "                        torch.FloatTensor(data_buffer.all_rewards[:bb].reshape(-1)).clone().detach(), \n",
    "                        torch.LongTensor(data_buffer.all_ep_ends[:bb].reshape(-1)).clone().detach())\n",
    "\n",
    "    elasticAgent.consume_transitions(transitions, verbose = True,replace_at_indices = replace_at_indices, batch_size = 1000)\n",
    "    elasticAgent.dacmdp_core.solve(max_n_backups = config.mdpSolveArgs.max_n_backups, \n",
    "                                   penalty_beta = config.mdpSolveArgs.penalty_beta, \n",
    "                                   epsilon = config.mdpSolveArgs.epsilon, \n",
    "                                   gamma = config.mdpSolveArgs.gamma, \n",
    "                                   operator=\"simple_backup\", \n",
    "                                   bellman_backup_batch_size=500)\n",
    "\n",
    "    print(f\"Epoch {epoch_i}: Graph built and solved in {time.time()-st:.2f} Seconds\")\n",
    "    ######################################################################################################\n",
    "\n",
    "    \n",
    "    ######### TT 3:Debug DACMDP Elastic Build   ###########################################################################\n",
    "    \n",
    "#     debug_elasticAgent = DACBuildWithActionNames( config = config, \n",
    "#                                         action_space = env.action_space, \n",
    "#                                         action_model = cluster_action_model, # Update this later.\n",
    "#                                         repr_model = sa_repr_model, \n",
    "#                                         effective_batch_size= 1000, \n",
    "#                                         batch_calc_knn_ret_flat_engine = THelper.batch_calc_knn_ret_flat_pykeops\n",
    "#                                         )\n",
    "\n",
    "#     debug_elasticAgent.action_model = action_model\n",
    "#     debug_elasticAgent.repr_model = sa_repr_model\n",
    "#     debug_transitions = DACTransitionBatch(torch.FloatTensor(global_buffer.all_states[-total_training_points:]).clone().detach(),\n",
    "#                         torch.FloatTensor(global_buffer.all_actions[-total_training_points:]).clone().detach(),\n",
    "#                         torch.FloatTensor(global_buffer.all_next_states[-total_training_points:]).clone().detach(),\n",
    "#                         torch.FloatTensor(global_buffer.all_rewards[-total_training_points:].reshape(-1)).clone().detach(), \n",
    "#                         torch.LongTensor(global_buffer.all_ep_ends[-total_training_points:].reshape(-1)).clone().detach())\n",
    "\n",
    "#     debug_elasticAgent.consume_transitions(debug_transitions, verbose = True, replace_at_indices = None, batch_size = 10000)\n",
    "#     debug_elasticAgent.dacmdp_core.solve(max_n_backups = config.mdpSolveArgs.max_n_backups, \n",
    "#                                    penalty_beta = config.mdpSolveArgs.penalty_beta, \n",
    "#                                    epsilon = config.mdpSolveArgs.epsilon, \n",
    "#                                    gamma = config.mdpSolveArgs.gamma, \n",
    "#                                    operator=\"simple_backup\", \n",
    "#                                    bellman_backup_batch_size=500)\n",
    "\n",
    "#     print(f\"Debug Epoch {epoch_i}: Debug Graph built and solved in {time.time()-st:.2f} Seconds\")\n",
    "    ######################################################################################################\n",
    "    \n",
    "    ######### TT 4: Eval  ###########################################################################\n",
    "    # st = time.time()\n",
    "    # eval_policy = lambda s:dummy_lifted_policy(debug_elasticAgent,s, epsilon = 0)\n",
    "    # config.evalArgs.eval_episode_count = 50\n",
    "    # avg_rewards, info = evaluate_on_env(env, eval_policy, eps_count=config.evalArgs.eval_episode_count)\n",
    "    # eval_time =  time.time()-st\n",
    "    # print(f\"Debug Eval, Epoch {epoch_i}: Evaluation compltete\", avg_rewards, \"Time: \",eval_time, \"Seconds\")\n",
    "    # image_array= plot_distributions_as_rgb_array(elasticAgent.dacmdp_core.mdp_distributions)\n",
    "    # image_array= plot_distributions_as_rgb_array(debug_elasticAgent.dacmdp_core.mdp_distributions)\n",
    "\n",
    "    # rewards_log.append(avg_rewards)\n",
    "\n",
    "\n",
    "    if not config.evalArgs.skip_eval:\n",
    "        st = time.time()\n",
    "        eval_policy = lambda s:dummy_lifted_policy(elasticAgent,s, epsilon = 0)\n",
    "        config.evalArgs.eval_episode_count = 50\n",
    "        avg_rewards, info = evaluate_on_env(env, eval_policy, eps_count=config.evalArgs.eval_episode_count)\n",
    "        eval_time =  time.time()-st\n",
    "        print(f\"Epoch {epoch_i}: Evaluation compltete\", avg_rewards, \"Time: \",eval_time, \"Seconds\")\n",
    "        rewards_log.append(avg_rewards)\n",
    "        \n",
    "    if not config.evalArgs.skip_dist_log:\n",
    "        image_array= plot_distributions_as_rgb_array(elasticAgent.dacmdp_core.mdp_distributions)\n",
    "        dac_plot_log.append(image_array)\n",
    "        images = wandb_logger.Image(image_array, caption=\"MDP Distributions\")\n",
    "    \n",
    "    if not config.logArgs.no_wandb_logging:   \n",
    "        wandb_logger.log({\"epoch_i\":epoch_i, \"buffer_size\":len(global_buffer), \"Average Reward\":avg_rewards,\n",
    "                         \"explore_data_collection_traj_reward\":np.mean(info_explore[\"all_rewards\"]), \n",
    "                         \"optimal_data_collection_traj_reward\":np.mean(info_optimal[\"all_rewards\"]), \n",
    "                         \"mdp_distribution\":images\n",
    "                         })\n",
    "    else:\n",
    "        gen_log.append({\"epoch_i\":epoch_i, \n",
    "                        \"global_buffer_size\":len(global_buffer), \n",
    "                        \"dacmdp_size\":len(elasticAgent.dacmdp_core.S), \n",
    "                        \"Average Reward\":avg_rewards,\n",
    "                         \"explore_data_collection_traj_reward\":np.mean(info_explore[\"all_rewards\"]), \n",
    "                         \"optimal_data_collection_traj_reward\":np.mean(info_optimal[\"all_rewards\"]), \n",
    "                         })        \n",
    "\n",
    "    ######################################################################################################"
   ]
  },
  {
   "cell_type": "code",
   "execution_count": 12,
   "id": "cdd95456-907a-4144-85a7-636cf1724d0f",
   "metadata": {},
   "outputs": [],
   "source": [
    "# to_remove_indices_queue = list(range(100))"
   ]
  },
  {
   "cell_type": "code",
   "execution_count": 13,
   "id": "2901d0eb-48fb-44f4-942c-83e49b25ccf6",
   "metadata": {},
   "outputs": [],
   "source": [
    "# for i in range(10):\n",
    "#     print(to_remove_indices_queue[:20])\n",
    "#     to_remove_indices_queue = to_remove_indices_queue[20:] + to_remove_indices_queue[:20]"
   ]
  },
  {
   "cell_type": "code",
   "execution_count": 13,
   "id": "de3ba231-48b4-455e-84de-d3dbfb9b84a4",
   "metadata": {},
   "outputs": [
    {
     "name": "stdout",
     "output_type": "stream",
     "text": [
      "40000.0\n"
     ]
    }
   ],
   "source": [
    "print(np.sum(data_buffer.reward))\n"
   ]
  },
  {
   "cell_type": "code",
   "execution_count": null,
   "id": "e915fb6c-69f1-4d23-b0e9-ee55afcc41ac",
   "metadata": {},
   "outputs": [],
   "source": []
  },
  {
   "cell_type": "code",
   "execution_count": 23,
   "id": "aaa33bdb-d84b-4c5f-a345-2d786ead2db4",
   "metadata": {},
   "outputs": [],
   "source": [
    "# data_buffer = StandardBuffer(state_shape = env.observation_space.shape,\n",
    "#                        action_shape = [len(env.action_space.sample())], # for discrete settings. \n",
    "#                         batch_size=32, buffer_size=point_batch_size, device=\"cpu\")\n",
    "# _data_buffer, info_explore = StandardBuffer.populate_buffer(data_buffer, env, \n",
    "#                                                policy = random_policy if epoch_i ==0 else explore_policy,\n",
    "#                                                episode_count=99999, \n",
    "#                                                frame_count=int(point_batch_size/2))\n",
    "# _data_buffer, info_optimal = StandardBuffer.populate_buffer(data_buffer, env, \n",
    "#                                                policy = random_policy if epoch_i ==0 else optimal_policy,\n",
    "#                                                episode_count=99999, \n",
    "#                                                frame_count=int(point_batch_size/2))"
   ]
  },
  {
   "cell_type": "code",
   "execution_count": 25,
   "id": "2e56d7ad-cc8f-4bdd-9e72-e417d0f42844",
   "metadata": {},
   "outputs": [
    {
     "name": "stdout",
     "output_type": "stream",
     "text": [
      "dacmdp_core_defined\n",
      "Using pre-initialized Action Model GlobalClusterActionModel\n",
      "Using pre-initialized Action Model <dacmdp.core.models_sa_repr.DeltaPredictonRepr object at 0x2ad4720efd30>\n",
      "batch_next_states.shape torch.Size([120000, 4])\n",
      "replace indices :  False torch.Size([120000, 4])\n",
      "Instantiated DACMDP for transition Batch\n",
      "(120000, 15, 5)\n",
      "nn after consumption,  120000\n"
     ]
    },
    {
     "name": "stderr",
     "output_type": "stream",
     "text": [
      "Calculate Candidate Actions: : 12it [00:01, 11.41it/s]\n",
      "Calculate/Update Datsaet SA Representation: : 12it [00:00, 18.93it/s]\n",
      "Calculate/Update Candidate Transition SA Representation: : 12it [00:03,  3.94it/s]\n",
      "Update Transition model of core dacmdp: : 12it [00:00, 23.73it/s]\n"
     ]
    },
    {
     "name": "stdout",
     "output_type": "stream",
     "text": [
      "0 tensor(1.)\n",
      "500 tensor(0.2862)\n",
      "1000 tensor(0.0821)\n",
      "1500 tensor(0.0237)\n",
      "2000 tensor(0.0069)\n",
      "2500 tensor(0.0021)\n",
      "3000 tensor(0.0007)\n",
      "3500 tensor(0.0003)\n",
      "4000 tensor(0.0002)\n",
      "4500 tensor(9.1553e-05)\n",
      "Solved MDP in 4500 Backups\n",
      "Debug Epoch 24: Debug Graph built and solved in 55.52 Seconds\n"
     ]
    },
    {
     "name": "stderr",
     "output_type": "stream",
     "text": [
      "100%|██████████████████████████████████████████████████████████████████████████████████████████████████████████████████████████| 50/50 [00:08<00:00,  5.81it/s]"
     ]
    },
    {
     "name": "stdout",
     "output_type": "stream",
     "text": [
      "Debug Eval, Epoch 24: Evaluation compltete 397.06 Time:  8.615700244903564 Seconds\n"
     ]
    },
    {
     "name": "stderr",
     "output_type": "stream",
     "text": [
      "\n"
     ]
    }
   ],
   "source": [
    "for d_size in range(40000, 200000)\n",
    "\n",
    "debug_elasticAgent = DACBuildWithActionNames( config = config, \n",
    "                                    action_space = env.action_space, \n",
    "                                    action_model = cluster_action_model, # Update this later.\n",
    "                                    repr_model = sa_repr_model, \n",
    "                                    effective_batch_size= 1000, \n",
    "                                    batch_calc_knn_ret_flat_engine = THelper.batch_calc_knn_ret_flat_pykeops\n",
    "                                    )\n",
    "\n",
    "debug_elasticAgent.action_model = action_model\n",
    "debug_elasticAgent.repr_model = sa_repr_model\n",
    "debug_transitions = DACTransitionBatch(torch.FloatTensor(global_buffer.all_states[-120000:]).clone().detach(),\n",
    "                    torch.FloatTensor(global_buffer.all_actions[-120000:]).clone().detach(),\n",
    "                    torch.FloatTensor(global_buffer.all_next_states[-120000:]).clone().detach(),\n",
    "                    torch.FloatTensor(global_buffer.all_rewards[-120000:].reshape(-1)).clone().detach(), \n",
    "                    torch.LongTensor(global_buffer.all_ep_ends[-120000:].reshape(-1)).clone().detach())\n",
    "\n",
    "debug_elasticAgent.consume_transitions(debug_transitions, verbose = True, replace_at_indices = None, batch_size = 10000)\n",
    "debug_elasticAgent.dacmdp_core.solve(max_n_backups = config.mdpSolveArgs.max_n_backups, \n",
    "                               penalty_beta = 1, \n",
    "                               epsilon = config.mdpSolveArgs.epsilon, \n",
    "                               gamma = 0.9975, \n",
    "                               operator=\"simple_backup\", \n",
    "                               bellman_backup_batch_size=500)\n",
    "\n",
    "print(f\"Debug Epoch {epoch_i}: Debug Graph built and solved in {time.time()-st:.2f} Seconds\")\n",
    "\n",
    "st = time.time()\n",
    "eval_policy = lambda s:dummy_lifted_policy(debug_elasticAgent,s, epsilon = 0)\n",
    "config.evalArgs.eval_episode_count = 50\n",
    "avg_rewards, info = evaluate_on_env(env, eval_policy, eps_count=config.evalArgs.eval_episode_count)\n",
    "eval_time =  time.time()-st\n",
    "print(f\"Debug Eval, Epoch {epoch_i}: Evaluation compltete\", avg_rewards, \"Time: \",eval_time, \"Seconds\")"
   ]
  },
  {
   "cell_type": "code",
   "execution_count": 19,
   "id": "bb179a54-61a6-448b-a7a0-c53c10988627",
   "metadata": {},
   "outputs": [
    {
     "name": "stderr",
     "output_type": "stream",
     "text": [
      "100%|██████████████████████████████████████████████████████████████████████████████████████████████████████████████████████████| 50/50 [00:05<00:00,  9.62it/s]"
     ]
    },
    {
     "name": "stdout",
     "output_type": "stream",
     "text": [
      "Debug Eval, Epoch 24: Evaluation compltete 324.96 Time:  5.207209348678589 Seconds\n"
     ]
    },
    {
     "name": "stderr",
     "output_type": "stream",
     "text": [
      "\n"
     ]
    }
   ],
   "source": []
  },
  {
   "cell_type": "code",
   "execution_count": null,
   "id": "102c78b1-4412-4b63-bd78-b6c8e117b0ed",
   "metadata": {},
   "outputs": [],
   "source": []
  },
  {
   "cell_type": "code",
   "execution_count": null,
   "id": "d2cb420e-d36f-49be-815b-cb8a5262196b",
   "metadata": {},
   "outputs": [],
   "source": []
  },
  {
   "cell_type": "code",
   "execution_count": null,
   "id": "329730f2-3859-40c2-826d-2c556d3ead72",
   "metadata": {},
   "outputs": [],
   "source": []
  },
  {
   "cell_type": "code",
   "execution_count": null,
   "id": "e033cc5a-915c-4197-a803-d79ab039d2f4",
   "metadata": {},
   "outputs": [],
   "source": []
  },
  {
   "cell_type": "code",
   "execution_count": null,
   "id": "fa32574b-ccd0-45ee-af6f-8bddf98b9f24",
   "metadata": {},
   "outputs": [],
   "source": []
  },
  {
   "cell_type": "code",
   "execution_count": 39,
   "id": "84bd713e-fcff-482c-abd1-cd6ec232df44",
   "metadata": {},
   "outputs": [
    {
     "name": "stdout",
     "output_type": "stream",
     "text": [
      "0.0\n"
     ]
    }
   ],
   "source": [
    "print(np.sum(global_buffer.reward[-20000:]))"
   ]
  },
  {
   "cell_type": "code",
   "execution_count": 36,
   "id": "4cb0cb96-c6d5-4fd8-8358-144d1cf240b5",
   "metadata": {},
   "outputs": [
    {
     "data": {
      "text/plain": [
       "torch.Size([100000, 15])"
      ]
     },
     "execution_count": 36,
     "metadata": {},
     "output_type": "execute_result"
    }
   ],
   "source": [
    "torch.sum(elasticAgent.dacmdp_core.Tp, dim = 2).shape"
   ]
  },
  {
   "cell_type": "code",
   "execution_count": 22,
   "id": "4a4b5ffc-c14d-42a0-9126-89aa7acf83f4",
   "metadata": {},
   "outputs": [
    {
     "data": {
      "text/plain": [
       "tensor(0., device='cuda:0')"
      ]
     },
     "execution_count": 22,
     "metadata": {},
     "output_type": "execute_result"
    }
   ],
   "source": [
    "torch.sum(torch.sum(debug_elasticAgent.dacmdp_core.Tp, dim = 2))"
   ]
  },
  {
   "cell_type": "code",
   "execution_count": 12,
   "id": "6be230a0-383d-4da6-a253-215bddfb5805",
   "metadata": {},
   "outputs": [],
   "source": [
    "nn,aa,sa_dim = elasticAgent.dacmdp_core.T_repr[:,5:,:].shape\n",
    "s_repr = elasticAgent.dacmdp_core.T_repr[:,5:,:].reshape(nn,aa*sa_dim).contiguous()\n",
    "knn_indices, knn_distances = THelper.batch_calc_knn_pykeops(s_repr, s_repr, k = 2)\n",
    "nn_distances = knn_distances[:, 1]\n",
    "ratio = (point_batch_size/total_training_points) + 0.01\n",
    "replace_at_indices = torch.nonzero(nn_distances <= torch.quantile(nn_distances, 0.21)).reshape(-1)[:len(data_buffer)]\n"
   ]
  },
  {
   "cell_type": "code",
   "execution_count": 22,
   "id": "47ca98ea-e6c5-4516-945b-9379825b4168",
   "metadata": {},
   "outputs": [],
   "source": [
    "connected_indices = knn_indices[replace_at_indices][:,1]"
   ]
  },
  {
   "cell_type": "code",
   "execution_count": 23,
   "id": "f77306f7-1ee3-404d-9c76-1df89a94e26e",
   "metadata": {},
   "outputs": [
    {
     "data": {
      "text/plain": [
       "tensor([78838, 15387, 15389,  ..., 86908, 34830, 12762])"
      ]
     },
     "execution_count": 23,
     "metadata": {},
     "output_type": "execute_result"
    }
   ],
   "source": [
    "connected_indices "
   ]
  },
  {
   "cell_type": "code",
   "execution_count": 30,
   "id": "a48098d9-38a3-4234-8b1b-88ed33207d3b",
   "metadata": {},
   "outputs": [],
   "source": [
    "from collections import defaultdict\n",
    "replacable_flag = defaultdict(lambda: 1)\n",
    "replace_indices = []\n",
    "for r,c in zip(replace_at_indices, connected_indices):\n",
    "    r,c = r.item(), c.item()\n",
    "    if replacable_flag[r]:\n",
    "        replace_indices.append(r)\n",
    "        replacable_flag[c] = 0"
   ]
  },
  {
   "cell_type": "code",
   "execution_count": 31,
   "id": "f7794eeb-7f63-4bcd-b848-8dd37437227b",
   "metadata": {},
   "outputs": [
    {
     "data": {
      "text/plain": [
       "(18045, 11510)"
      ]
     },
     "execution_count": 31,
     "metadata": {},
     "output_type": "execute_result"
    }
   ],
   "source": [
    "len(replace_at_indices), len(replace_indices)"
   ]
  },
  {
   "cell_type": "code",
   "execution_count": 11,
   "id": "3157a545-a28c-473c-b448-a2f7fb394aa7",
   "metadata": {},
   "outputs": [
    {
     "data": {
      "image/png": "[encoded data removed]",
      "text/plain": [
       "<Figure size 2000x1200 with 6 Axes>"
      ]
     },
     "metadata": {},
     "output_type": "display_data"
    }
   ],
   "source": [
    "image_array= plot_distributions_as_rgb_array(elasticAgent.dacmdp_core.mdp_distributions)\n"
   ]
  },
  {
   "cell_type": "code",
   "execution_count": 12,
   "id": "eb19b8e0-25e2-4232-b837-f7cf06264113",
   "metadata": {},
   "outputs": [
    {
     "name": "stdout",
     "output_type": "stream",
     "text": [
      "0 tensor(1.)\n",
      "500 tensor(0.0067)\n",
      "1000 tensor(0.0001)\n",
      "1500 tensor(2.2888e-05)\n",
      "Solved MDP in 1500 Backups\n"
     ]
    },
    {
     "name": "stderr",
     "output_type": "stream",
     "text": [
      "100%|████████████████████████████████████████████████████████████████████████████████████████████████████████████████████████| 100/100 [00:13<00:00,  7.69it/s]"
     ]
    },
    {
     "name": "stdout",
     "output_type": "stream",
     "text": [
      "Epoch 24: Evaluation compltete 296.25 Time:  13.015323400497437 Seconds\n"
     ]
    },
    {
     "name": "stderr",
     "output_type": "stream",
     "text": [
      "\n"
     ]
    }
   ],
   "source": [
    "elasticAgent.dacmdp_core.solve(max_n_backups = config.mdpSolveArgs.max_n_backups, \n",
    "                               penalty_beta = 10 ,\n",
    "                               epsilon = config.mdpSolveArgs.epsilon, \n",
    "                               gamma = config.mdpSolveArgs.gamma, \n",
    "                               operator=\"simple_backup\", \n",
    "                               bellman_backup_batch_size=500)\n",
    "\n",
    "######### TT 4: Eval  ###########################################################################\n",
    "st = time.time()\n",
    "eval_policy = lambda s:dummy_lifted_policy(elasticAgent,s, epsilon = 0)\n",
    "config.evalArgs.eval_episode_count = 100\n",
    "avg_rewards, info = evaluate_on_env(env, eval_policy, eps_count=config.evalArgs.eval_episode_count)\n",
    "eval_time =  time.time()-st\n",
    "print(f\"Epoch {epoch_i}: Evaluation compltete\", avg_rewards, \"Time: \",eval_time, \"Seconds\")"
   ]
  },
  {
   "cell_type": "code",
   "execution_count": 50,
   "id": "556f8b78-cb59-429e-94c7-0b60bed7c6eb",
   "metadata": {
    "collapsed": true,
    "jupyter": {
     "outputs_hidden": true
    },
    "tags": []
   },
   "outputs": [
    {
     "data": {
      "text/plain": [
       "tensor([[  335],\n",
       "        [  419],\n",
       "        [  491],\n",
       "        [  760],\n",
       "        [  825],\n",
       "        [ 1047],\n",
       "        [ 1119],\n",
       "        [ 1676],\n",
       "        [ 1753],\n",
       "        [ 2071],\n",
       "        [ 2158],\n",
       "        [ 2444],\n",
       "        [ 2842],\n",
       "        [ 2867],\n",
       "        [ 3053],\n",
       "        [ 3497],\n",
       "        [ 3688],\n",
       "        [ 3883],\n",
       "        [ 4159],\n",
       "        [ 4218],\n",
       "        [ 4295],\n",
       "        [ 4322],\n",
       "        [ 4467],\n",
       "        [ 4561],\n",
       "        [ 4923],\n",
       "        [ 5023],\n",
       "        [ 5468],\n",
       "        [ 5631],\n",
       "        [ 6216],\n",
       "        [ 6354],\n",
       "        [ 6419],\n",
       "        [ 6521],\n",
       "        [ 6709],\n",
       "        [ 7026],\n",
       "        [ 7058],\n",
       "        [ 7117],\n",
       "        [ 7185],\n",
       "        [ 7307],\n",
       "        [ 7383],\n",
       "        [ 7414],\n",
       "        [ 7500],\n",
       "        [ 7591],\n",
       "        [ 7694],\n",
       "        [ 7870],\n",
       "        [ 8010],\n",
       "        [ 8297],\n",
       "        [ 8506],\n",
       "        [ 8549],\n",
       "        [ 8634],\n",
       "        [ 8780],\n",
       "        [ 8886],\n",
       "        [ 9041],\n",
       "        [ 9206],\n",
       "        [ 9321],\n",
       "        [ 9358],\n",
       "        [ 9635],\n",
       "        [10200],\n",
       "        [10637],\n",
       "        [10673],\n",
       "        [11211],\n",
       "        [11488],\n",
       "        [11910],\n",
       "        [12002],\n",
       "        [12241],\n",
       "        [13308],\n",
       "        [13371],\n",
       "        [13722],\n",
       "        [13971],\n",
       "        [14082],\n",
       "        [15022],\n",
       "        [15061],\n",
       "        [15801],\n",
       "        [15931],\n",
       "        [16031],\n",
       "        [16262],\n",
       "        [16343],\n",
       "        [16667],\n",
       "        [16708],\n",
       "        [17093],\n",
       "        [17741],\n",
       "        [18400],\n",
       "        [18791],\n",
       "        [19185],\n",
       "        [19474]])"
      ]
     },
     "execution_count": 50,
     "metadata": {},
     "output_type": "execute_result"
    }
   ],
   "source": [
    "torch.nonzero(transitions.terminals)"
   ]
  },
  {
   "cell_type": "code",
   "execution_count": 52,
   "id": "01f33bc8-309c-4a5c-82d2-b19cebe5b805",
   "metadata": {},
   "outputs": [
    {
     "data": {
      "text/plain": [
       "tensor(2183)"
      ]
     },
     "execution_count": 52,
     "metadata": {},
     "output_type": "execute_result"
    }
   ],
   "source": [
    "replace_at_indices[335]"
   ]
  },
  {
   "cell_type": "code",
   "execution_count": 53,
   "id": "a852fc45-f35c-4976-8dc5-743f5b0a5cb2",
   "metadata": {},
   "outputs": [
    {
     "data": {
      "text/plain": [
       "True"
      ]
     },
     "execution_count": 53,
     "metadata": {},
     "output_type": "execute_result"
    }
   ],
   "source": [
    "2183 in elasticAgent.dacmdp_core.D_terminal_indices"
   ]
  },
  {
   "cell_type": "code",
   "execution_count": 14,
   "id": "2c11c326-c584-4d26-a64f-abb0871489bd",
   "metadata": {},
   "outputs": [
    {
     "data": {
      "text/plain": [
       "[<matplotlib.lines.Line2D at 0x2b63f6c71390>]"
      ]
     },
     "execution_count": 14,
     "metadata": {},
     "output_type": "execute_result"
    },
    {
     "data": {
      "image/png": "[encoded data removed]",
      "text/plain": [
       "<Figure size 640x480 with 1 Axes>"
      ]
     },
     "metadata": {},
     "output_type": "display_data"
    }
   ],
   "source": [
    "import matplotlib.pyplot as plt \n",
    "plt.plot([g[\"optimal_data_collection_traj_reward\"] for g in gen_log])\n",
    "# plt.plot([g[\"optimal_data_collection_traj_reward\"]*2 for g in gen_log])"
   ]
  },
  {
   "cell_type": "code",
   "execution_count": 15,
   "id": "aa5949e2-e158-4129-b1ff-9a228181ad06",
   "metadata": {},
   "outputs": [
    {
     "data": {
      "text/plain": [
       "[<matplotlib.lines.Line2D at 0x2b63f6c891b0>]"
      ]
     },
     "execution_count": 15,
     "metadata": {},
     "output_type": "execute_result"
    },
    {
     "data": {
      "image/png": "[encoded data removed]",
      "text/plain": [
       "<Figure size 640x480 with 1 Axes>"
      ]
     },
     "metadata": {},
     "output_type": "display_data"
    }
   ],
   "source": [
    "import matplotlib.pyplot as plt \n",
    "plt.plot([g[\"dacmdp_size\"] for g in gen_log])\n",
    "# plt.plot([g[\"optimal_data_collection_traj_reward\"]*2 for g in gen_log])"
   ]
  },
  {
   "cell_type": "code",
   "execution_count": 23,
   "id": "403dd03a-327a-4e25-a91b-55f74528215b",
   "metadata": {},
   "outputs": [],
   "source": [
    "nn,aa,sa_dim = elasticAgent.dacmdp_core.T_repr[:,5:,:].shape\n",
    "s_repr = elasticAgent.dacmdp_core.T_repr[:,5:,:].reshape(nn,aa*sa_dim).contiguous()\n",
    "knn_indices, knn_distances = THelper.batch_calc_knn_pykeops(s_repr, s_repr, k = 2)\n",
    "nn_distances = knn_distances[:, 1]"
   ]
  },
  {
   "cell_type": "code",
   "execution_count": 32,
   "id": "56700bd7-be2c-4e63-b0ce-d15c49163557",
   "metadata": {},
   "outputs": [
    {
     "name": "stdout",
     "output_type": "stream",
     "text": [
      "[KeOps] Generating code for formula ArgKMin_Reduction(Sum((Var(0,40,0)-Var(1,40,1))**2),0) ... OK\n"
     ]
    }
   ],
   "source": []
  },
  {
   "cell_type": "code",
   "execution_count": 26,
   "id": "558cee00-3767-4dc1-859e-8e99f142539c",
   "metadata": {},
   "outputs": [
    {
     "data": {
      "text/plain": [
       "tensor([   1, 8582, 2273, 3935, 7975])"
      ]
     },
     "execution_count": 26,
     "metadata": {},
     "output_type": "execute_result"
    }
   ],
   "source": [
    "knn_indices[1]"
   ]
  },
  {
   "cell_type": "code",
   "execution_count": 41,
   "id": "5f0aec7d-0ad1-460d-b191-f146174db4c9",
   "metadata": {},
   "outputs": [
    {
     "data": {
      "text/plain": [
       "tensor([     4,     30,     46,  ..., 199997, 199998, 199999])"
      ]
     },
     "execution_count": 41,
     "metadata": {},
     "output_type": "execute_result"
    }
   ],
   "source": []
  },
  {
   "cell_type": "code",
   "execution_count": 43,
   "id": "18392823-1628-438e-9db0-751d884ae38a",
   "metadata": {},
   "outputs": [],
   "source": [
    "# elasticAgent.dacmdp_core.S"
   ]
  },
  {
   "cell_type": "code",
   "execution_count": 21,
   "id": "b2df06d1-efd5-4690-9019-4221a8b04422",
   "metadata": {},
   "outputs": [
    {
     "name": "stdout",
     "output_type": "stream",
     "text": [
      "Average Reward of collected trajectories:17.769\n"
     ]
    }
   ],
   "source": [
    "from dacmdp.data.utils_buffer import StandardElasticBuffer\n",
    "global_buffer = StandardElasticBuffer(state_shape = env.observation_space.shape,\n",
    "           action_shape = [len(env.action_space.sample())], # for discrete settings. \n",
    "            batch_size=32, buffer_size=100000, device=\"cpu\")\n",
    "\n",
    "data_buffer = StandardBuffer(state_shape = env.observation_space.shape,\n",
    "                       action_shape = [len(env.action_space.sample())], # for discrete settings. \n",
    "                        batch_size=32, buffer_size=point_batch_size, device=\"cpu\")\n",
    "data_buffer, info_explore = StandardBuffer.populate_buffer(data_buffer, env, \n",
    "                                               policy = random_policy,\n",
    "                                               episode_count=99999, \n",
    "                                               frame_count=int(point_batch_size/2))"
   ]
  },
  {
   "cell_type": "code",
   "execution_count": 22,
   "id": "2543d0dc-81f9-4512-872e-961d6da071e9",
   "metadata": {},
   "outputs": [],
   "source": [
    "global_buffer.append_buffer(data_buffer)\n",
    "global_buffer.append_buffer(data_buffer)"
   ]
  },
  {
   "cell_type": "code",
   "execution_count": 23,
   "id": "3e4ddd26-45a3-4304-b747-5bfc8878be4e",
   "metadata": {},
   "outputs": [
    {
     "name": "stdout",
     "output_type": "stream",
     "text": [
      "20008.0 10004.0\n"
     ]
    }
   ],
   "source": [
    "print(np.sum(global_buffer.reward), np.sum(data_buffer.reward))"
   ]
  },
  {
   "cell_type": "code",
   "execution_count": null,
   "id": "65c7a10e-4be5-46be-879a-f32a6d906698",
   "metadata": {},
   "outputs": [],
   "source": [
    "64 dimensional "
   ]
  },
  {
   "cell_type": "code",
   "execution_count": 23,
   "id": "db9df0ca-d9ff-45ea-9f63-f378ee21ee07",
   "metadata": {},
   "outputs": [],
   "source": [
    "D1 = torch.randn(int(1e5), 8).cuda()\n",
    "Q1 = torch.randn(int(1e6), 8).cuda()\n",
    "\n",
    "\n",
    "Q2 = torch.randn(int(1e5), 16).cuda()\n",
    "D2 = torch.randn(int(1e6), 16).cuda()\n",
    "\n",
    "\n",
    "Q3 = torch.randn(int(1e5), 32).cuda()\n",
    "D3 = torch.randn(int(1e7), 32).cuda()"
   ]
  },
  {
   "cell_type": "code",
   "execution_count": 19,
   "id": "cc9b1fe1-e006-4a1e-a1d1-aca5cee84c88",
   "metadata": {},
   "outputs": [
    {
     "name": "stdout",
     "output_type": "stream",
     "text": [
      "2.621091365814209\n"
     ]
    }
   ],
   "source": [
    "import time\n",
    "\n",
    "st = time.time()\n",
    "knn_indices , knn_distances = THelper.batch_calc_knn_pykeops(D1, D1, k = 5)\n",
    "torch.cuda.synchronize()\n",
    "et = time.time()\n",
    "print(et-st)"
   ]
  },
  {
   "cell_type": "code",
   "execution_count": null,
   "id": "b2127f4f-fd63-49a2-a24c-ecde83c2eec1",
   "metadata": {},
   "outputs": [],
   "source": [
    "400K / S"
   ]
  },
  {
   "cell_type": "code",
   "execution_count": 21,
   "id": "f1121b18-5c9f-4bc4-85fe-f9d0cbf79559",
   "metadata": {},
   "outputs": [
    {
     "name": "stdout",
     "output_type": "stream",
     "text": [
      "[KeOps] Generating code for formula ArgKMin_Reduction(Sum((Var(0,16,0)-Var(1,16,1))**2),0) ... OK\n",
      "4.716387987136841\n"
     ]
    }
   ],
   "source": [
    "import time\n",
    "\n",
    "st = time.time()\n",
    "knn_indices , knn_distances = THelper.batch_calc_knn_pykeops(D2, D2, k = 5)\n",
    "torch.cuda.synchronize()\n",
    "et = time.time()\n",
    "print(et-st)"
   ]
  },
  {
   "cell_type": "code",
   "execution_count": 24,
   "id": "27e44f39-942c-4006-a648-91a08c33a14b",
   "metadata": {},
   "outputs": [
    {
     "name": "stdout",
     "output_type": "stream",
     "text": [
      "11.181524753570557\n"
     ]
    }
   ],
   "source": [
    "import time\n",
    "\n",
    "st = time.time()\n",
    "knn_indices , knn_distances = THelper.batch_calc_knn_pykeops(Q3, D3, k = 5)\n",
    "torch.cuda.synchronize()\n",
    "et = time.time()\n",
    "print(et-st)"
   ]
  },
  {
   "cell_type": "code",
   "execution_count": null,
   "id": "41b57d58-b8a5-492b-9204-e8910341f48a",
   "metadata": {},
   "outputs": [],
   "source": [
    "1OK /s"
   ]
  }
 ],
 "metadata": {
  "kernelspec": {
   "display_name": "Python 3 (ipykernel)",
   "language": "python",
   "name": "python3"
  },
  "language_info": {
   "codemirror_mode": {
    "name": "ipython",
    "version": 3
   },
   "file_extension": ".py",
   "mimetype": "text/x-python",
   "name": "python",
   "nbconvert_exporter": "python",
   "pygments_lexer": "ipython3",
   "version": "3.10.4"
  }
 },
 "nbformat": 4,
 "nbformat_minor": 5
}
