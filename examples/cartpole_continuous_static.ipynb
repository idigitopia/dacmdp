{
 "cells": [
  {
   "cell_type": "code",
   "execution_count": 1,
   "id": "7ab9361a-ea9d-405c-acc2-90295fa89da8",
   "metadata": {},
   "outputs": [],
   "source": [
    "%load_ext autoreload\n",
    "%autoreload 2"
   ]
  },
  {
   "cell_type": "code",
   "execution_count": 2,
   "id": "eab1fc7f-7473-4e6e-a49d-09d1964bb08b",
   "metadata": {},
   "outputs": [
    {
     "name": "stderr",
     "output_type": "stream",
     "text": [
      "/nfs/guille/afern/users/shrestaa/installation_files/MinicondaInstallation/envs/skand_dac/lib/python3.8/site-packages/tqdm/auto.py:22: TqdmWarning: IProgress not found. Please update jupyter and ipywidgets. See https://ipywidgets.readthedocs.io/en/stable/user_install.html\n",
      "  from .autonotebook import tqdm as notebook_tqdm\n"
     ]
    }
   ],
   "source": [
    "import torch\n",
    "import gym\n",
    "import dacmdp\n",
    "import dacmdp.envs as ce\n",
    "# import wandb as wandb_logger"
   ]
  },
  {
   "cell_type": "code",
   "execution_count": 3,
   "id": "80db80a5-3643-4983-bc6a-74da82960c29",
   "metadata": {},
   "outputs": [],
   "source": [
    "from munch import munchify \n",
    "\n",
    "config = munchify({\n",
    "\"envArgs\":{'env_name': 'CartPole-cont-v1', 'seed': 0},\n",
    "\"logArgs\":{'wandb_id': \"cartpole_online_test_1\", \"wandb_entity\":\"dacmdp\",\n",
    "           \"wandb_project\":\"dacmdp_online_test_v0\", \"no_wandb_logging\":True},\n",
    "\"dataArgs\": {'buffer_name': 'random', 'buffer_size': 50000, \n",
    "             'load_buffer': False, 'buffer_device': 'gpu', \"data_dir\":\"\"},\n",
    "\"reprModelArgs\": {'repr_model_name': 'OracleDynamicsRepr', 's_multiplyer': 1, 'a_multiplyer': 10, 'repr_dim': 4},\n",
    "\"actionModelArgs\": {'action_model_name': 'NNActionModelCuda', 'nn_engine': \"torch_pykeops\"},\n",
    "\"mdpBuildArgs\": {'n_tran_types': 10, 'n_tran_targets': 5, 'penalty_beta': 1.0, 'penalty_type': 'linear', 'rebuild_mdpfcache': False,\n",
    "                 'save_mdp2cache': False, 'save_folder': '/nfs/hpc/share/shrestaa/storage/dac_storage_22_Q4/mdp_dumps/random_hash'},\n",
    "\"mdpSolveArgs\": {'device': 'cuda', 'max_n_backups': 5000, \"gamma\": 0.99, 'epsilon': 0.0001, 'penalty_beta': 1, \"operator\": \"simple_backup\"},\n",
    "\"evalArgs\": {'eval_episode_count': 50, \"skip_eval\":True, \"skip_dist_log\":True},\n",
    "})\n",
    "\n",
    "flat_args = lambda config : {f\"{K}::{k}\":v for K in config for k,v in config[K].items() if K != \"flat_args\"}"
   ]
  },
  {
   "cell_type": "code",
   "execution_count": 4,
   "id": "8a9bc37d-c44f-4a73-93a0-1dbfcf678420",
   "metadata": {},
   "outputs": [],
   "source": [
    "if not config.logArgs.no_wandb_logging:\n",
    "    wandb_logger.init( id = config.logArgs.wandb_id ,\n",
    "        entity=config.logArgs.wandb_entity,\n",
    "        project=config.logArgs.wandb_project,\n",
    "        config = flat_args(config),\n",
    "        resume = \"allow\")"
   ]
  },
  {
   "cell_type": "code",
   "execution_count": 5,
   "id": "cded13fa-2a4c-401b-898e-7808e2728988",
   "metadata": {},
   "outputs": [],
   "source": [
    "env = gym.make(config.envArgs.env_name)"
   ]
  },
  {
   "cell_type": "code",
   "execution_count": 7,
   "id": "dc2fb587-6c45-4131-b991-9098564afa18",
   "metadata": {},
   "outputs": [
    {
     "name": "stdout",
     "output_type": "stream",
     "text": [
      "Collecting buffer!\n",
      "Average Reward of collected trajectories:16.733\n",
      "Collected buffer!\n",
      "K-means for the Euclidean metric with 50,000 points in dimension 1, K = 10:\n",
      "Timing for 50 iterations: 0.02949s = 50 x 0.00059s\n",
      "\n"
     ]
    },
    {
     "name": "stderr",
     "output_type": "stream",
     "text": [
      "Caculating State Representations: : 196it [00:00, 99249.50it/s]\n"
     ]
    }
   ],
   "source": [
    "from dacmdp.core.models_action import NNActionModel, GlobalClusterActionModel, EnsembleActionModel\n",
    "from dacmdp.core.models_sa_repr import OracleDynamicsRepr, DeltaPredictonRepr\n",
    "\n",
    "######### Get Action and Repr Models ####################################\n",
    "seed_buffer = dacmdp.utils_buffer.generate_or_load_buffer(config, env)\n",
    "cluster_action_count = 10\n",
    "cluster_action_model = GlobalClusterActionModel(action_space=env.action_space,\n",
    "                                   n_actions= cluster_action_count,\n",
    "                                   data_buffer=seed_buffer)\n",
    "nn_action_model = NNActionModel(action_space = env.action_space,\n",
    "                               n_actions = 5,\n",
    "                               data_buffer = seed_buffer,\n",
    "                               nn_engine= config.actionModelArgs.nn_engine,\n",
    "                               projection_fxn=lambda s: s, \n",
    "                               )\n",
    "action_model = EnsembleActionModel(env.action_space,[nn_action_model, cluster_action_model])    \n",
    "    \n",
    "\n",
    "# sa_repr_model = OracleDynamicsRepr(env_name=config.envArgs.env_name)\n",
    "    \n",
    "sa_repr_model = DeltaPredictonRepr(s_multiplyer=2, \n",
    "                               a_multiplyer=1,\n",
    "                               buffer=seed_buffer,\n",
    "                               nn_engine=\"torch_pykeops\")\n",
    "######################################################################################################"
   ]
  },
  {
   "cell_type": "code",
   "execution_count": 8,
   "id": "ee40c17a-4cf3-4094-aa06-c82d66994cff",
   "metadata": {},
   "outputs": [
    {
     "data": {
      "text/plain": [
       "(torch.Size([100, 10, 1]), torch.Size([100, 4]))"
      ]
     },
     "execution_count": 8,
     "metadata": {},
     "output_type": "execute_result"
    }
   ],
   "source": [
    "cluster_action_model.cand_actions_for_states(torch.FloatTensor(seed_buffer.state[0:100]).cuda()).shape,\\\n",
    "sa_repr_model.encode_state_action_pairs(torch.FloatTensor(seed_buffer.state[0:100]),\n",
    "                                       torch.FloatTensor(seed_buffer.action[0:100])).shape"
   ]
  },
  {
   "cell_type": "code",
   "execution_count": 9,
   "id": "8e6411c9-801e-4a85-9513-c6c6fa7e3f73",
   "metadata": {},
   "outputs": [
    {
     "name": "stdout",
     "output_type": "stream",
     "text": [
      "dacmdp_core_defined\n",
      "Using pre-initialized Action Model BaseActionModel\n",
      "Using pre-initialized Action Model <dacmdp.core.models_sa_repr.DeltaPredictonRepr object at 0x2afbfd552af0>\n"
     ]
    }
   ],
   "source": [
    "import time\n",
    "import matplotlib.pyplot as plt \n",
    "import numpy as np \n",
    "from dacmdp.core.utils_misc import plot_distributions_as_rgb_array\n",
    "from dacmdp.eval.utils_eval import evaluate_on_env\n",
    "from dacmdp.data.utils_buffer import StandardBuffer\n",
    "from dacmdp.core.dac_core import DACTransitionBatch\n",
    "from dacmdp.core.dac_build import DACBuildWithActionNames\n",
    "from dacmdp.core.utils_knn import THelper\n",
    "\n",
    "data_buffer = seed_buffer \n",
    "\n",
    "# Instantiate Elastic Agent\n",
    "config.mdpBuildArgs.n_tran_types = action_model.n_actions\n",
    "config.mdpBuildArgs.repr_dim = 4\n",
    "\n",
    "elasticAgent = DACBuildWithActionNames( config = config, \n",
    "                                    action_space = env.action_space, \n",
    "                                    action_model = action_model, # Update this later.\n",
    "                                    repr_model = sa_repr_model, \n",
    "                                    effective_batch_size= 1000, \n",
    "                                    batch_calc_knn_ret_flat_engine = THelper.batch_calc_knn_ret_flat_pykeops\n",
    "                                    )"
   ]
  },
  {
   "cell_type": "code",
   "execution_count": 21,
   "id": "a397ed95-7b7b-4496-9e87-70b3560ba33b",
   "metadata": {},
   "outputs": [
    {
     "name": "stdout",
     "output_type": "stream",
     "text": [
      "batch_next_states.shape torch.Size([50000, 4])\n",
      "replace indices :  False torch.Size([50000, 4])\n",
      "Instantiated DACMDP for transition Batch\n",
      "(150000, 15, 5)\n",
      "nn after consumption,  150000\n"
     ]
    },
    {
     "name": "stderr",
     "output_type": "stream",
     "text": [
      "Calculate Candidate Actions: : 50it [00:00, 235.67it/s]\n",
      "Calculate/Update Datsaet SA Representation: : 50it [00:00, 286.49it/s]\n",
      "Calculate/Update Candidate Transition SA Representation: : 50it [00:00, 211.94it/s]\n",
      "Update Transition model of core dacmdp: : 50it [00:00, 80.45it/s]\n"
     ]
    },
    {
     "name": "stdout",
     "output_type": "stream",
     "text": [
      "0 tensor(1.)\n",
      "500 tensor(0.0066)\n",
      "1000 tensor(0.0001)\n",
      "1500 tensor(2.2888e-05)\n",
      "Solved MDP in 1500 Backups\n",
      "Graph built and solved in 2.16 Seconds\n"
     ]
    }
   ],
   "source": [
    "######### TT 3: DACMDP Elastic Build   ###########################################################################\n",
    "transitions = DACTransitionBatch(torch.FloatTensor(data_buffer.state).clone().detach(),\n",
    "                                torch.FloatTensor(data_buffer.action).clone().detach(),\n",
    "                                torch.FloatTensor(data_buffer.next_state).clone().detach(),\n",
    "                                torch.FloatTensor(data_buffer.reward.reshape(-1)).clone().detach(), \n",
    "                                torch.LongTensor((1- data_buffer.not_done).reshape(-1)).clone().detach())\n",
    "\n",
    "st = time.time()\n",
    "elasticAgent.consume_transitions(transitions, verbose = True, batch_size = 1000)\n",
    "elasticAgent.dacmdp_core.solve(max_n_backups = config.mdpSolveArgs.max_n_backups, \n",
    "                               penalty_beta = config.mdpSolveArgs.penalty_beta, \n",
    "                               epsilon = config.mdpSolveArgs.epsilon, \n",
    "                               gamma = config.mdpSolveArgs.gamma, \n",
    "                               operator=\"simple_backup\", \n",
    "                               bellman_backup_batch_size=500, \n",
    "                               reset_values=True)\n",
    "\n",
    "print(f\"Graph built and solved in {time.time()-st:.2f} Seconds\")\n",
    "######################################################################################################"
   ]
  },
  {
   "cell_type": "code",
   "execution_count": 24,
   "id": "304768c4-16c2-4582-8557-6124a52bd4d4",
   "metadata": {},
   "outputs": [
    {
     "name": "stdout",
     "output_type": "stream",
     "text": [
      "0 tensor(0.7966)\n",
      "500 tensor(0.4833)\n",
      "1000 tensor(0.2940)\n",
      "1500 tensor(0.1791)\n",
      "2000 tensor(0.1089)\n",
      "2500 tensor(0.0666)\n",
      "3000 tensor(0.0405)\n",
      "3500 tensor(0.0255)\n",
      "4000 tensor(0.0163)\n",
      "4500 tensor(0.0099)\n",
      "5000 tensor(0.0063)\n",
      "5500 tensor(0.0039)\n",
      "6000 tensor(0.0026)\n",
      "6500 tensor(0.0018)\n",
      "7000 tensor(0.0013)\n",
      "7500 tensor(0.0008)\n",
      "8000 tensor(0.0007)\n",
      "8500 tensor(0.0005)\n",
      "9000 tensor(0.0004)\n",
      "9500 tensor(0.0003)\n",
      "Solved MDP in 9999 Backups\n"
     ]
    }
   ],
   "source": [
    "elasticAgent.dacmdp_core.solve(max_n_backups = 10000, \n",
    "                               penalty_beta = 1, \n",
    "                               epsilon = config.mdpSolveArgs.epsilon, \n",
    "                               gamma = 0.999, \n",
    "                               operator=\"simple_backup\", \n",
    "                               bellman_backup_batch_size=500)"
   ]
  },
  {
   "cell_type": "code",
   "execution_count": 25,
   "id": "dbfcbc41-f27f-47b5-9228-00d9d6957fa6",
   "metadata": {},
   "outputs": [
    {
     "name": "stderr",
     "output_type": "stream",
     "text": [
      "100%|███████████████████████████████████████████████████████████████████████████████████████████████████████████████████████████████████████████████████████████████████████████████████████████████████████████████████████████████████| 50/50 [00:05<00:00,  8.57it/s]"
     ]
    },
    {
     "name": "stdout",
     "output_type": "stream",
     "text": [
      "435.38\n"
     ]
    },
    {
     "name": "stderr",
     "output_type": "stream",
     "text": [
      "\n"
     ]
    }
   ],
   "source": [
    "config.evalArgs.eval_episode_count = 50\n",
    "avg_rewards, info = evaluate_on_env(env,elasticAgent.dummy_lifted_policy, eps_count=config.evalArgs.eval_episode_count)\n",
    "print(avg_rewards)"
   ]
  },
  {
   "cell_type": "code",
   "execution_count": null,
   "id": "16d82882-e555-4e56-9503-a36cbd367716",
   "metadata": {},
   "outputs": [],
   "source": []
  },
  {
   "cell_type": "code",
   "execution_count": null,
   "id": "b5336c8a-4b49-42c1-99af-b6516d863056",
   "metadata": {},
   "outputs": [],
   "source": []
  }
 ],
 "metadata": {
  "kernelspec": {
   "display_name": "Python 3 (ipykernel)",
   "language": "python",
   "name": "python3"
  },
  "language_info": {
   "codemirror_mode": {
    "name": "ipython",
    "version": 3
   },
   "file_extension": ".py",
   "mimetype": "text/x-python",
   "name": "python",
   "nbconvert_exporter": "python",
   "pygments_lexer": "ipython3",
   "version": "3.8.16"
  }
 },
 "nbformat": 4,
 "nbformat_minor": 5
}
